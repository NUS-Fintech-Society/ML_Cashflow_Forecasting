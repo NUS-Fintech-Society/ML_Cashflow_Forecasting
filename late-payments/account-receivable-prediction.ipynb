{
 "cells": [
  {
   "cell_type": "markdown",
   "metadata": {},
   "source": [
    "**Dataset used: IBM Late Payment histories**\n",
    "\n",
    "This notebook aims to predict if and when invoices will be paid. The factor provides funds against this future payment to the business by buying their invoice. The factor then collects the payment and charges their interest rate. If the invoice isn't paid, the factor loses their advanced funds."
   ]
  },
  {
   "cell_type": "markdown",
   "metadata": {},
   "source": [
    "**Accounts Receivable.**\n",
    "\n",
    "Understand the factors of successful collection efforts, and predict which customers will pay fastest and recover more money and improve collections efficiency."
   ]
  },
  {
   "cell_type": "code",
   "execution_count": 64,
   "metadata": {},
   "outputs": [],
   "source": [
    "import math\n",
    "import numpy as np\n",
    "import pandas as pd\n",
    "from datetime import datetime\n",
    "from scipy import stats\n",
    "\n",
    "import seaborn as sns\n",
    "import matplotlib.pyplot as plt\n",
    "%matplotlib inline \n",
    "plt.style.use('seaborn-whitegrid')\n",
    "\n",
    "from sklearn.model_selection import train_test_split\n",
    "from sklearn.linear_model import LinearRegression\n",
    "from sklearn import metrics\n",
    "from sklearn.ensemble import RandomForestRegressor,  GradientBoostingRegressor\n",
    "from sklearn.metrics import mean_squared_error\n",
    "from sklearn.model_selection import KFold, cross_val_score\n",
    "from sklearn.metrics import mean_squared_error\n",
    "#import statsmodels.api as sm"
   ]
  },
  {
   "cell_type": "markdown",
   "metadata": {},
   "source": [
    "#### Reading Data"
   ]
  },
  {
   "cell_type": "code",
   "execution_count": 65,
   "metadata": {},
   "outputs": [
    {
     "name": "stdout",
     "output_type": "stream",
     "text": [
      "<class 'pandas.core.frame.DataFrame'>\n",
      "RangeIndex: 2466 entries, 0 to 2465\n",
      "Data columns (total 12 columns):\n",
      " #   Column         Non-Null Count  Dtype  \n",
      "---  ------         --------------  -----  \n",
      " 0   countryCode    2466 non-null   int64  \n",
      " 1   customerID     2466 non-null   object \n",
      " 2   PaperlessDate  2466 non-null   object \n",
      " 3   invoiceNumber  2466 non-null   int64  \n",
      " 4   InvoiceDate    2466 non-null   object \n",
      " 5   DueDate        2466 non-null   object \n",
      " 6   InvoiceAmount  2466 non-null   float64\n",
      " 7   Disputed       2466 non-null   object \n",
      " 8   SettledDate    2466 non-null   object \n",
      " 9   PaperlessBill  2466 non-null   object \n",
      " 10  DaysToSettle   2466 non-null   int64  \n",
      " 11  DaysLate       2466 non-null   int64  \n",
      "dtypes: float64(1), int64(4), object(7)\n",
      "memory usage: 231.3+ KB\n"
     ]
    }
   ],
   "source": [
    "\n",
    "df_receivable = pd.read_csv('late-payments/WA_Fn-UseC_-Accounts-Receivable.csv')\n",
    "#df.dropna(inplace=True)\n",
    "df_receivable.info()"
   ]
  },
  {
   "cell_type": "code",
   "execution_count": 66,
   "metadata": {},
   "outputs": [
    {
     "data": {
      "text/html": [
       "<div>\n",
       "<style scoped>\n",
       "    .dataframe tbody tr th:only-of-type {\n",
       "        vertical-align: middle;\n",
       "    }\n",
       "\n",
       "    .dataframe tbody tr th {\n",
       "        vertical-align: top;\n",
       "    }\n",
       "\n",
       "    .dataframe thead th {\n",
       "        text-align: right;\n",
       "    }\n",
       "</style>\n",
       "<table border=\"1\" class=\"dataframe\">\n",
       "  <thead>\n",
       "    <tr style=\"text-align: right;\">\n",
       "      <th></th>\n",
       "      <th>countryCode</th>\n",
       "      <th>customerID</th>\n",
       "      <th>PaperlessDate</th>\n",
       "      <th>invoiceNumber</th>\n",
       "      <th>InvoiceDate</th>\n",
       "      <th>DueDate</th>\n",
       "      <th>InvoiceAmount</th>\n",
       "      <th>Disputed</th>\n",
       "      <th>SettledDate</th>\n",
       "      <th>PaperlessBill</th>\n",
       "      <th>DaysToSettle</th>\n",
       "      <th>DaysLate</th>\n",
       "    </tr>\n",
       "  </thead>\n",
       "  <tbody>\n",
       "    <tr>\n",
       "      <th>0</th>\n",
       "      <td>391</td>\n",
       "      <td>0379-NEVHP</td>\n",
       "      <td>4/6/2013</td>\n",
       "      <td>611365</td>\n",
       "      <td>1/2/2013</td>\n",
       "      <td>2/1/2013</td>\n",
       "      <td>55.94</td>\n",
       "      <td>No</td>\n",
       "      <td>1/15/2013</td>\n",
       "      <td>Paper</td>\n",
       "      <td>13</td>\n",
       "      <td>0</td>\n",
       "    </tr>\n",
       "    <tr>\n",
       "      <th>1</th>\n",
       "      <td>406</td>\n",
       "      <td>8976-AMJEO</td>\n",
       "      <td>3/3/2012</td>\n",
       "      <td>7900770</td>\n",
       "      <td>1/26/2013</td>\n",
       "      <td>2/25/2013</td>\n",
       "      <td>61.74</td>\n",
       "      <td>Yes</td>\n",
       "      <td>3/3/2013</td>\n",
       "      <td>Electronic</td>\n",
       "      <td>36</td>\n",
       "      <td>6</td>\n",
       "    </tr>\n",
       "    <tr>\n",
       "      <th>2</th>\n",
       "      <td>391</td>\n",
       "      <td>2820-XGXSB</td>\n",
       "      <td>1/26/2012</td>\n",
       "      <td>9231909</td>\n",
       "      <td>7/3/2013</td>\n",
       "      <td>8/2/2013</td>\n",
       "      <td>65.88</td>\n",
       "      <td>No</td>\n",
       "      <td>7/8/2013</td>\n",
       "      <td>Electronic</td>\n",
       "      <td>5</td>\n",
       "      <td>0</td>\n",
       "    </tr>\n",
       "    <tr>\n",
       "      <th>3</th>\n",
       "      <td>406</td>\n",
       "      <td>9322-YCTQO</td>\n",
       "      <td>4/6/2012</td>\n",
       "      <td>9888306</td>\n",
       "      <td>2/10/2013</td>\n",
       "      <td>3/12/2013</td>\n",
       "      <td>105.92</td>\n",
       "      <td>No</td>\n",
       "      <td>3/17/2013</td>\n",
       "      <td>Electronic</td>\n",
       "      <td>35</td>\n",
       "      <td>5</td>\n",
       "    </tr>\n",
       "    <tr>\n",
       "      <th>4</th>\n",
       "      <td>818</td>\n",
       "      <td>6627-ELFBK</td>\n",
       "      <td>11/26/2012</td>\n",
       "      <td>15752855</td>\n",
       "      <td>10/25/2012</td>\n",
       "      <td>11/24/2012</td>\n",
       "      <td>72.27</td>\n",
       "      <td>Yes</td>\n",
       "      <td>11/28/2012</td>\n",
       "      <td>Paper</td>\n",
       "      <td>34</td>\n",
       "      <td>4</td>\n",
       "    </tr>\n",
       "  </tbody>\n",
       "</table>\n",
       "</div>"
      ],
      "text/plain": [
       "   countryCode  customerID PaperlessDate  invoiceNumber InvoiceDate  \\\n",
       "0          391  0379-NEVHP      4/6/2013         611365    1/2/2013   \n",
       "1          406  8976-AMJEO      3/3/2012        7900770   1/26/2013   \n",
       "2          391  2820-XGXSB     1/26/2012        9231909    7/3/2013   \n",
       "3          406  9322-YCTQO      4/6/2012        9888306   2/10/2013   \n",
       "4          818  6627-ELFBK    11/26/2012       15752855  10/25/2012   \n",
       "\n",
       "      DueDate  InvoiceAmount Disputed SettledDate PaperlessBill  DaysToSettle  \\\n",
       "0    2/1/2013          55.94       No   1/15/2013         Paper            13   \n",
       "1   2/25/2013          61.74      Yes    3/3/2013    Electronic            36   \n",
       "2    8/2/2013          65.88       No    7/8/2013    Electronic             5   \n",
       "3   3/12/2013         105.92       No   3/17/2013    Electronic            35   \n",
       "4  11/24/2012          72.27      Yes  11/28/2012         Paper            34   \n",
       "\n",
       "   DaysLate  \n",
       "0         0  \n",
       "1         6  \n",
       "2         0  \n",
       "3         5  \n",
       "4         4  "
      ]
     },
     "execution_count": 66,
     "metadata": {},
     "output_type": "execute_result"
    }
   ],
   "source": [
    "df_receivable.head(5)"
   ]
  },
  {
   "cell_type": "code",
   "execution_count": 67,
   "metadata": {},
   "outputs": [],
   "source": [
    "df_receivable['InvoiceDate']= pd.to_datetime(df_receivable.InvoiceDate)\n"
   ]
  },
  {
   "cell_type": "markdown",
   "metadata": {},
   "source": [
    "Generate a 'Late' boolean using the variable 'DaysLate'. An invoice is considered \"Late\" if it is more than 7 days overdue."
   ]
  },
  {
   "cell_type": "code",
   "execution_count": 68,
   "metadata": {},
   "outputs": [
    {
     "data": {
      "text/html": [
       "<div>\n",
       "<style scoped>\n",
       "    .dataframe tbody tr th:only-of-type {\n",
       "        vertical-align: middle;\n",
       "    }\n",
       "\n",
       "    .dataframe tbody tr th {\n",
       "        vertical-align: top;\n",
       "    }\n",
       "\n",
       "    .dataframe thead th {\n",
       "        text-align: right;\n",
       "    }\n",
       "</style>\n",
       "<table border=\"1\" class=\"dataframe\">\n",
       "  <thead>\n",
       "    <tr style=\"text-align: right;\">\n",
       "      <th></th>\n",
       "      <th>countryCode</th>\n",
       "      <th>customerID</th>\n",
       "      <th>PaperlessDate</th>\n",
       "      <th>invoiceNumber</th>\n",
       "      <th>InvoiceDate</th>\n",
       "      <th>DueDate</th>\n",
       "      <th>InvoiceAmount</th>\n",
       "      <th>Disputed</th>\n",
       "      <th>SettledDate</th>\n",
       "      <th>PaperlessBill</th>\n",
       "      <th>DaysToSettle</th>\n",
       "      <th>DaysLate</th>\n",
       "      <th>Late</th>\n",
       "    </tr>\n",
       "  </thead>\n",
       "  <tbody>\n",
       "    <tr>\n",
       "      <th>0</th>\n",
       "      <td>391</td>\n",
       "      <td>0379-NEVHP</td>\n",
       "      <td>4/6/2013</td>\n",
       "      <td>611365</td>\n",
       "      <td>2013-01-02</td>\n",
       "      <td>2/1/2013</td>\n",
       "      <td>55.94</td>\n",
       "      <td>No</td>\n",
       "      <td>1/15/2013</td>\n",
       "      <td>Paper</td>\n",
       "      <td>13</td>\n",
       "      <td>0</td>\n",
       "      <td>0</td>\n",
       "    </tr>\n",
       "    <tr>\n",
       "      <th>1</th>\n",
       "      <td>406</td>\n",
       "      <td>8976-AMJEO</td>\n",
       "      <td>3/3/2012</td>\n",
       "      <td>7900770</td>\n",
       "      <td>2013-01-26</td>\n",
       "      <td>2/25/2013</td>\n",
       "      <td>61.74</td>\n",
       "      <td>Yes</td>\n",
       "      <td>3/3/2013</td>\n",
       "      <td>Electronic</td>\n",
       "      <td>36</td>\n",
       "      <td>6</td>\n",
       "      <td>0</td>\n",
       "    </tr>\n",
       "    <tr>\n",
       "      <th>2</th>\n",
       "      <td>391</td>\n",
       "      <td>2820-XGXSB</td>\n",
       "      <td>1/26/2012</td>\n",
       "      <td>9231909</td>\n",
       "      <td>2013-07-03</td>\n",
       "      <td>8/2/2013</td>\n",
       "      <td>65.88</td>\n",
       "      <td>No</td>\n",
       "      <td>7/8/2013</td>\n",
       "      <td>Electronic</td>\n",
       "      <td>5</td>\n",
       "      <td>0</td>\n",
       "      <td>0</td>\n",
       "    </tr>\n",
       "  </tbody>\n",
       "</table>\n",
       "</div>"
      ],
      "text/plain": [
       "   countryCode  customerID PaperlessDate  invoiceNumber InvoiceDate  \\\n",
       "0          391  0379-NEVHP      4/6/2013         611365  2013-01-02   \n",
       "1          406  8976-AMJEO      3/3/2012        7900770  2013-01-26   \n",
       "2          391  2820-XGXSB     1/26/2012        9231909  2013-07-03   \n",
       "\n",
       "     DueDate  InvoiceAmount Disputed SettledDate PaperlessBill  DaysToSettle  \\\n",
       "0   2/1/2013          55.94       No   1/15/2013         Paper            13   \n",
       "1  2/25/2013          61.74      Yes    3/3/2013    Electronic            36   \n",
       "2   8/2/2013          65.88       No    7/8/2013    Electronic             5   \n",
       "\n",
       "   DaysLate  Late  \n",
       "0         0     0  \n",
       "1         6     0  \n",
       "2         0     0  "
      ]
     },
     "execution_count": 68,
     "metadata": {},
     "output_type": "execute_result"
    }
   ],
   "source": [
    "df_receivable['Late'] = df_receivable['DaysLate'].apply(lambda x: 1 if x > 7 else 0)\n",
    "df_receivable.head(3)"
   ]
  },
  {
   "cell_type": "markdown",
   "metadata": {},
   "source": [
    "**countlate** is a rolling count of the amount of late payments generated for each customer."
   ]
  },
  {
   "cell_type": "code",
   "execution_count": 69,
   "metadata": {},
   "outputs": [],
   "source": [
    "df_receivable['countlate']=df_receivable.Late.eq(1).groupby(df_receivable.customerID).apply(\n",
    "    lambda x : x.cumsum().shift().fillna(0)).astype(int)"
   ]
  },
  {
   "cell_type": "code",
   "execution_count": 70,
   "metadata": {},
   "outputs": [
    {
     "data": {
      "text/html": [
       "<div>\n",
       "<style scoped>\n",
       "    .dataframe tbody tr th:only-of-type {\n",
       "        vertical-align: middle;\n",
       "    }\n",
       "\n",
       "    .dataframe tbody tr th {\n",
       "        vertical-align: top;\n",
       "    }\n",
       "\n",
       "    .dataframe thead th {\n",
       "        text-align: right;\n",
       "    }\n",
       "</style>\n",
       "<table border=\"1\" class=\"dataframe\">\n",
       "  <thead>\n",
       "    <tr style=\"text-align: right;\">\n",
       "      <th></th>\n",
       "      <th>countryCode</th>\n",
       "      <th>customerID</th>\n",
       "      <th>PaperlessDate</th>\n",
       "      <th>invoiceNumber</th>\n",
       "      <th>InvoiceDate</th>\n",
       "      <th>DueDate</th>\n",
       "      <th>InvoiceAmount</th>\n",
       "      <th>Disputed</th>\n",
       "      <th>SettledDate</th>\n",
       "      <th>PaperlessBill</th>\n",
       "      <th>DaysToSettle</th>\n",
       "      <th>DaysLate</th>\n",
       "      <th>Late</th>\n",
       "      <th>countlate</th>\n",
       "    </tr>\n",
       "  </thead>\n",
       "  <tbody>\n",
       "    <tr>\n",
       "      <th>0</th>\n",
       "      <td>391</td>\n",
       "      <td>0379-NEVHP</td>\n",
       "      <td>4/6/2013</td>\n",
       "      <td>611365</td>\n",
       "      <td>2013-01-02</td>\n",
       "      <td>2/1/2013</td>\n",
       "      <td>55.94</td>\n",
       "      <td>No</td>\n",
       "      <td>1/15/2013</td>\n",
       "      <td>Paper</td>\n",
       "      <td>13</td>\n",
       "      <td>0</td>\n",
       "      <td>0</td>\n",
       "      <td>0</td>\n",
       "    </tr>\n",
       "    <tr>\n",
       "      <th>1</th>\n",
       "      <td>406</td>\n",
       "      <td>8976-AMJEO</td>\n",
       "      <td>3/3/2012</td>\n",
       "      <td>7900770</td>\n",
       "      <td>2013-01-26</td>\n",
       "      <td>2/25/2013</td>\n",
       "      <td>61.74</td>\n",
       "      <td>Yes</td>\n",
       "      <td>3/3/2013</td>\n",
       "      <td>Electronic</td>\n",
       "      <td>36</td>\n",
       "      <td>6</td>\n",
       "      <td>0</td>\n",
       "      <td>0</td>\n",
       "    </tr>\n",
       "    <tr>\n",
       "      <th>2</th>\n",
       "      <td>391</td>\n",
       "      <td>2820-XGXSB</td>\n",
       "      <td>1/26/2012</td>\n",
       "      <td>9231909</td>\n",
       "      <td>2013-07-03</td>\n",
       "      <td>8/2/2013</td>\n",
       "      <td>65.88</td>\n",
       "      <td>No</td>\n",
       "      <td>7/8/2013</td>\n",
       "      <td>Electronic</td>\n",
       "      <td>5</td>\n",
       "      <td>0</td>\n",
       "      <td>0</td>\n",
       "      <td>0</td>\n",
       "    </tr>\n",
       "  </tbody>\n",
       "</table>\n",
       "</div>"
      ],
      "text/plain": [
       "   countryCode  customerID PaperlessDate  invoiceNumber InvoiceDate  \\\n",
       "0          391  0379-NEVHP      4/6/2013         611365  2013-01-02   \n",
       "1          406  8976-AMJEO      3/3/2012        7900770  2013-01-26   \n",
       "2          391  2820-XGXSB     1/26/2012        9231909  2013-07-03   \n",
       "\n",
       "     DueDate  InvoiceAmount Disputed SettledDate PaperlessBill  DaysToSettle  \\\n",
       "0   2/1/2013          55.94       No   1/15/2013         Paper            13   \n",
       "1  2/25/2013          61.74      Yes    3/3/2013    Electronic            36   \n",
       "2   8/2/2013          65.88       No    7/8/2013    Electronic             5   \n",
       "\n",
       "   DaysLate  Late  countlate  \n",
       "0         0     0          0  \n",
       "1         6     0          0  \n",
       "2         0     0          0  "
      ]
     },
     "execution_count": 70,
     "metadata": {},
     "output_type": "execute_result"
    }
   ],
   "source": [
    "df_receivable.head(3)"
   ]
  },
  {
   "cell_type": "code",
   "execution_count": 71,
   "metadata": {},
   "outputs": [
    {
     "name": "stdout",
     "output_type": "stream",
     "text": [
      "<class 'pandas.core.frame.DataFrame'>\n",
      "RangeIndex: 2466 entries, 0 to 2465\n",
      "Data columns (total 14 columns):\n",
      " #   Column         Non-Null Count  Dtype         \n",
      "---  ------         --------------  -----         \n",
      " 0   countryCode    2466 non-null   int64         \n",
      " 1   customerID     2466 non-null   object        \n",
      " 2   PaperlessDate  2466 non-null   object        \n",
      " 3   invoiceNumber  2466 non-null   int64         \n",
      " 4   InvoiceDate    2466 non-null   datetime64[ns]\n",
      " 5   DueDate        2466 non-null   object        \n",
      " 6   InvoiceAmount  2466 non-null   float64       \n",
      " 7   Disputed       2466 non-null   object        \n",
      " 8   SettledDate    2466 non-null   object        \n",
      " 9   PaperlessBill  2466 non-null   object        \n",
      " 10  DaysToSettle   2466 non-null   int64         \n",
      " 11  DaysLate       2466 non-null   int64         \n",
      " 12  Late           2466 non-null   int64         \n",
      " 13  countlate      2466 non-null   int64         \n",
      "dtypes: datetime64[ns](1), float64(1), int64(6), object(6)\n",
      "memory usage: 269.8+ KB\n"
     ]
    }
   ],
   "source": [
    "df_receivable.info()"
   ]
  },
  {
   "cell_type": "code",
   "execution_count": 72,
   "metadata": {},
   "outputs": [
    {
     "data": {
      "text/html": [
       "<div>\n",
       "<style scoped>\n",
       "    .dataframe tbody tr th:only-of-type {\n",
       "        vertical-align: middle;\n",
       "    }\n",
       "\n",
       "    .dataframe tbody tr th {\n",
       "        vertical-align: top;\n",
       "    }\n",
       "\n",
       "    .dataframe thead th {\n",
       "        text-align: right;\n",
       "    }\n",
       "</style>\n",
       "<table border=\"1\" class=\"dataframe\">\n",
       "  <thead>\n",
       "    <tr style=\"text-align: right;\">\n",
       "      <th></th>\n",
       "      <th>countryCode</th>\n",
       "      <th>invoiceNumber</th>\n",
       "      <th>InvoiceAmount</th>\n",
       "      <th>DaysToSettle</th>\n",
       "      <th>DaysLate</th>\n",
       "      <th>Late</th>\n",
       "      <th>countlate</th>\n",
       "    </tr>\n",
       "  </thead>\n",
       "  <tbody>\n",
       "    <tr>\n",
       "      <th>count</th>\n",
       "      <td>2466.000000</td>\n",
       "      <td>2.466000e+03</td>\n",
       "      <td>2466.000000</td>\n",
       "      <td>2466.00000</td>\n",
       "      <td>2466.000000</td>\n",
       "      <td>2466.000000</td>\n",
       "      <td>2466.000000</td>\n",
       "    </tr>\n",
       "    <tr>\n",
       "      <th>mean</th>\n",
       "      <td>620.446067</td>\n",
       "      <td>4.978431e+09</td>\n",
       "      <td>59.895856</td>\n",
       "      <td>26.44485</td>\n",
       "      <td>3.442417</td>\n",
       "      <td>0.185726</td>\n",
       "      <td>2.259530</td>\n",
       "    </tr>\n",
       "    <tr>\n",
       "      <th>std</th>\n",
       "      <td>215.933610</td>\n",
       "      <td>2.884272e+09</td>\n",
       "      <td>20.435838</td>\n",
       "      <td>12.33493</td>\n",
       "      <td>6.290607</td>\n",
       "      <td>0.388964</td>\n",
       "      <td>3.710186</td>\n",
       "    </tr>\n",
       "    <tr>\n",
       "      <th>min</th>\n",
       "      <td>391.000000</td>\n",
       "      <td>6.113650e+05</td>\n",
       "      <td>5.260000</td>\n",
       "      <td>0.00000</td>\n",
       "      <td>0.000000</td>\n",
       "      <td>0.000000</td>\n",
       "      <td>0.000000</td>\n",
       "    </tr>\n",
       "    <tr>\n",
       "      <th>25%</th>\n",
       "      <td>406.000000</td>\n",
       "      <td>2.528854e+09</td>\n",
       "      <td>46.400000</td>\n",
       "      <td>18.00000</td>\n",
       "      <td>0.000000</td>\n",
       "      <td>0.000000</td>\n",
       "      <td>0.000000</td>\n",
       "    </tr>\n",
       "    <tr>\n",
       "      <th>50%</th>\n",
       "      <td>770.000000</td>\n",
       "      <td>4.964228e+09</td>\n",
       "      <td>60.560000</td>\n",
       "      <td>26.00000</td>\n",
       "      <td>0.000000</td>\n",
       "      <td>0.000000</td>\n",
       "      <td>1.000000</td>\n",
       "    </tr>\n",
       "    <tr>\n",
       "      <th>75%</th>\n",
       "      <td>818.000000</td>\n",
       "      <td>7.494512e+09</td>\n",
       "      <td>73.765000</td>\n",
       "      <td>35.00000</td>\n",
       "      <td>5.000000</td>\n",
       "      <td>0.000000</td>\n",
       "      <td>3.000000</td>\n",
       "    </tr>\n",
       "    <tr>\n",
       "      <th>max</th>\n",
       "      <td>897.000000</td>\n",
       "      <td>9.990244e+09</td>\n",
       "      <td>128.280000</td>\n",
       "      <td>75.00000</td>\n",
       "      <td>45.000000</td>\n",
       "      <td>1.000000</td>\n",
       "      <td>28.000000</td>\n",
       "    </tr>\n",
       "  </tbody>\n",
       "</table>\n",
       "</div>"
      ],
      "text/plain": [
       "       countryCode  invoiceNumber  InvoiceAmount  DaysToSettle     DaysLate  \\\n",
       "count  2466.000000   2.466000e+03    2466.000000    2466.00000  2466.000000   \n",
       "mean    620.446067   4.978431e+09      59.895856      26.44485     3.442417   \n",
       "std     215.933610   2.884272e+09      20.435838      12.33493     6.290607   \n",
       "min     391.000000   6.113650e+05       5.260000       0.00000     0.000000   \n",
       "25%     406.000000   2.528854e+09      46.400000      18.00000     0.000000   \n",
       "50%     770.000000   4.964228e+09      60.560000      26.00000     0.000000   \n",
       "75%     818.000000   7.494512e+09      73.765000      35.00000     5.000000   \n",
       "max     897.000000   9.990244e+09     128.280000      75.00000    45.000000   \n",
       "\n",
       "              Late    countlate  \n",
       "count  2466.000000  2466.000000  \n",
       "mean      0.185726     2.259530  \n",
       "std       0.388964     3.710186  \n",
       "min       0.000000     0.000000  \n",
       "25%       0.000000     0.000000  \n",
       "50%       0.000000     1.000000  \n",
       "75%       0.000000     3.000000  \n",
       "max       1.000000    28.000000  "
      ]
     },
     "execution_count": 72,
     "metadata": {},
     "output_type": "execute_result"
    }
   ],
   "source": [
    "df_receivable.describe()"
   ]
  },
  {
   "cell_type": "code",
   "execution_count": 73,
   "metadata": {},
   "outputs": [
    {
     "data": {
      "text/plain": [
       "<matplotlib.axes._subplots.AxesSubplot at 0x1a220db250>"
      ]
     },
     "execution_count": 73,
     "metadata": {},
     "output_type": "execute_result"
    },
    {
     "data": {
      "image/png": "[encoded data removed]",
      "text/plain": [
       "<Figure size 720x432 with 1 Axes>"
      ]
     },
     "metadata": {},
     "output_type": "display_data"
    }
   ],
   "source": [
    "temp = pd.DataFrame(df_receivable.groupby(['countryCode'], axis=0, as_index=False)['DaysLate'].mean())\n",
    "plt.figure(figsize=(10,6))\n",
    "sns.barplot(x=\"countryCode\", y=\"DaysLate\",data=temp)"
   ]
  },
  {
   "cell_type": "markdown",
   "metadata": {},
   "source": [
    "Identified that country code 818 has maximum late days and country code 391 has minimum late days.<br>\n",
    "Check the details of categorical features"
   ]
  },
  {
   "cell_type": "code",
   "execution_count": 74,
   "metadata": {},
   "outputs": [
    {
     "data": {
      "text/html": [
       "<div>\n",
       "<style scoped>\n",
       "    .dataframe tbody tr th:only-of-type {\n",
       "        vertical-align: middle;\n",
       "    }\n",
       "\n",
       "    .dataframe tbody tr th {\n",
       "        vertical-align: top;\n",
       "    }\n",
       "\n",
       "    .dataframe thead th {\n",
       "        text-align: right;\n",
       "    }\n",
       "</style>\n",
       "<table border=\"1\" class=\"dataframe\">\n",
       "  <thead>\n",
       "    <tr style=\"text-align: right;\">\n",
       "      <th></th>\n",
       "      <th>customerID</th>\n",
       "      <th>PaperlessDate</th>\n",
       "      <th>DueDate</th>\n",
       "      <th>Disputed</th>\n",
       "      <th>SettledDate</th>\n",
       "      <th>PaperlessBill</th>\n",
       "    </tr>\n",
       "  </thead>\n",
       "  <tbody>\n",
       "    <tr>\n",
       "      <th>count</th>\n",
       "      <td>2466</td>\n",
       "      <td>2466</td>\n",
       "      <td>2466</td>\n",
       "      <td>2466</td>\n",
       "      <td>2466</td>\n",
       "      <td>2466</td>\n",
       "    </tr>\n",
       "    <tr>\n",
       "      <th>unique</th>\n",
       "      <td>100</td>\n",
       "      <td>91</td>\n",
       "      <td>681</td>\n",
       "      <td>2</td>\n",
       "      <td>695</td>\n",
       "      <td>2</td>\n",
       "    </tr>\n",
       "    <tr>\n",
       "      <th>top</th>\n",
       "      <td>9149-MATVB</td>\n",
       "      <td>9/11/2012</td>\n",
       "      <td>1/29/2013</td>\n",
       "      <td>No</td>\n",
       "      <td>4/28/2013</td>\n",
       "      <td>Paper</td>\n",
       "    </tr>\n",
       "    <tr>\n",
       "      <th>freq</th>\n",
       "      <td>36</td>\n",
       "      <td>58</td>\n",
       "      <td>10</td>\n",
       "      <td>1905</td>\n",
       "      <td>10</td>\n",
       "      <td>1263</td>\n",
       "    </tr>\n",
       "  </tbody>\n",
       "</table>\n",
       "</div>"
      ],
      "text/plain": [
       "        customerID PaperlessDate    DueDate Disputed SettledDate PaperlessBill\n",
       "count         2466          2466       2466     2466        2466          2466\n",
       "unique         100            91        681        2         695             2\n",
       "top     9149-MATVB     9/11/2012  1/29/2013       No   4/28/2013         Paper\n",
       "freq            36            58         10     1905          10          1263"
      ]
     },
     "execution_count": 74,
     "metadata": {},
     "output_type": "execute_result"
    }
   ],
   "source": [
    "df_receivable.describe(include=np.object)"
   ]
  },
  {
   "cell_type": "markdown",
   "metadata": {},
   "source": [
    "Count of categorical features"
   ]
  },
  {
   "cell_type": "code",
   "execution_count": 75,
   "metadata": {},
   "outputs": [
    {
     "name": "stdout",
     "output_type": "stream",
     "text": [
      "col_0        count\n",
      "countryCode       \n",
      "391            616\n",
      "406            561\n",
      "770            506\n",
      "818            387\n",
      "897            396\n",
      "col_0  count\n",
      "Late        \n",
      "0       2008\n",
      "1        458\n"
     ]
    }
   ],
   "source": [
    "print(pd.crosstab(index=df_receivable[\"countryCode\"], columns=\"count\"))\n",
    "print(pd.crosstab(index=df_receivable[\"Late\"], columns=\"count\"))"
   ]
  },
  {
   "cell_type": "markdown",
   "metadata": {},
   "source": [
    "Checking for the customer who is late to pay"
   ]
  },
  {
   "cell_type": "code",
   "execution_count": 76,
   "metadata": {},
   "outputs": [
    {
     "data": {
      "text/html": [
       "<div>\n",
       "<style scoped>\n",
       "    .dataframe tbody tr th:only-of-type {\n",
       "        vertical-align: middle;\n",
       "    }\n",
       "\n",
       "    .dataframe tbody tr th {\n",
       "        vertical-align: top;\n",
       "    }\n",
       "\n",
       "    .dataframe thead th {\n",
       "        text-align: right;\n",
       "    }\n",
       "</style>\n",
       "<table border=\"1\" class=\"dataframe\">\n",
       "  <thead>\n",
       "    <tr style=\"text-align: right;\">\n",
       "      <th></th>\n",
       "      <th>countryCode</th>\n",
       "      <th>customerID</th>\n",
       "      <th>PaperlessDate</th>\n",
       "      <th>invoiceNumber</th>\n",
       "      <th>InvoiceDate</th>\n",
       "      <th>DueDate</th>\n",
       "      <th>InvoiceAmount</th>\n",
       "      <th>Disputed</th>\n",
       "      <th>SettledDate</th>\n",
       "      <th>PaperlessBill</th>\n",
       "      <th>DaysToSettle</th>\n",
       "      <th>DaysLate</th>\n",
       "      <th>Late</th>\n",
       "      <th>countlate</th>\n",
       "    </tr>\n",
       "  </thead>\n",
       "  <tbody>\n",
       "    <tr>\n",
       "      <th>0</th>\n",
       "      <td>391</td>\n",
       "      <td>0379-NEVHP</td>\n",
       "      <td>4/6/2013</td>\n",
       "      <td>611365</td>\n",
       "      <td>2013-01-02</td>\n",
       "      <td>2/1/2013</td>\n",
       "      <td>55.94</td>\n",
       "      <td>No</td>\n",
       "      <td>1/15/2013</td>\n",
       "      <td>Paper</td>\n",
       "      <td>13</td>\n",
       "      <td>0</td>\n",
       "      <td>0</td>\n",
       "      <td>0</td>\n",
       "    </tr>\n",
       "    <tr>\n",
       "      <th>1</th>\n",
       "      <td>406</td>\n",
       "      <td>8976-AMJEO</td>\n",
       "      <td>3/3/2012</td>\n",
       "      <td>7900770</td>\n",
       "      <td>2013-01-26</td>\n",
       "      <td>2/25/2013</td>\n",
       "      <td>61.74</td>\n",
       "      <td>Yes</td>\n",
       "      <td>3/3/2013</td>\n",
       "      <td>Electronic</td>\n",
       "      <td>36</td>\n",
       "      <td>6</td>\n",
       "      <td>0</td>\n",
       "      <td>0</td>\n",
       "    </tr>\n",
       "    <tr>\n",
       "      <th>2</th>\n",
       "      <td>391</td>\n",
       "      <td>2820-XGXSB</td>\n",
       "      <td>1/26/2012</td>\n",
       "      <td>9231909</td>\n",
       "      <td>2013-07-03</td>\n",
       "      <td>8/2/2013</td>\n",
       "      <td>65.88</td>\n",
       "      <td>No</td>\n",
       "      <td>7/8/2013</td>\n",
       "      <td>Electronic</td>\n",
       "      <td>5</td>\n",
       "      <td>0</td>\n",
       "      <td>0</td>\n",
       "      <td>0</td>\n",
       "    </tr>\n",
       "  </tbody>\n",
       "</table>\n",
       "</div>"
      ],
      "text/plain": [
       "   countryCode  customerID PaperlessDate  invoiceNumber InvoiceDate  \\\n",
       "0          391  0379-NEVHP      4/6/2013         611365  2013-01-02   \n",
       "1          406  8976-AMJEO      3/3/2012        7900770  2013-01-26   \n",
       "2          391  2820-XGXSB     1/26/2012        9231909  2013-07-03   \n",
       "\n",
       "     DueDate  InvoiceAmount Disputed SettledDate PaperlessBill  DaysToSettle  \\\n",
       "0   2/1/2013          55.94       No   1/15/2013         Paper            13   \n",
       "1  2/25/2013          61.74      Yes    3/3/2013    Electronic            36   \n",
       "2   8/2/2013          65.88       No    7/8/2013    Electronic             5   \n",
       "\n",
       "   DaysLate  Late  countlate  \n",
       "0         0     0          0  \n",
       "1         6     0          0  \n",
       "2         0     0          0  "
      ]
     },
     "execution_count": 76,
     "metadata": {},
     "output_type": "execute_result"
    }
   ],
   "source": [
    "df_receivable.head(3)"
   ]
  },
  {
   "cell_type": "code",
   "execution_count": 77,
   "metadata": {},
   "outputs": [
    {
     "data": {
      "text/html": [
       "<div>\n",
       "<style scoped>\n",
       "    .dataframe tbody tr th:only-of-type {\n",
       "        vertical-align: middle;\n",
       "    }\n",
       "\n",
       "    .dataframe tbody tr th {\n",
       "        vertical-align: top;\n",
       "    }\n",
       "\n",
       "    .dataframe thead th {\n",
       "        text-align: right;\n",
       "    }\n",
       "</style>\n",
       "<table border=\"1\" class=\"dataframe\">\n",
       "  <thead>\n",
       "    <tr style=\"text-align: right;\">\n",
       "      <th>Late</th>\n",
       "      <th>0</th>\n",
       "      <th>1</th>\n",
       "    </tr>\n",
       "    <tr>\n",
       "      <th>customerID</th>\n",
       "      <th></th>\n",
       "      <th></th>\n",
       "    </tr>\n",
       "  </thead>\n",
       "  <tbody>\n",
       "    <tr>\n",
       "      <th>0688-XNJRO</th>\n",
       "      <td>6</td>\n",
       "      <td>28</td>\n",
       "    </tr>\n",
       "    <tr>\n",
       "      <th>8102-ABPKQ</th>\n",
       "      <td>5</td>\n",
       "      <td>22</td>\n",
       "    </tr>\n",
       "    <tr>\n",
       "      <th>1604-LIFKX</th>\n",
       "      <td>2</td>\n",
       "      <td>18</td>\n",
       "    </tr>\n",
       "    <tr>\n",
       "      <th>7228-LEPPM</th>\n",
       "      <td>6</td>\n",
       "      <td>18</td>\n",
       "    </tr>\n",
       "    <tr>\n",
       "      <th>6708-DPYTF</th>\n",
       "      <td>13</td>\n",
       "      <td>17</td>\n",
       "    </tr>\n",
       "    <tr>\n",
       "      <th>...</th>\n",
       "      <td>...</td>\n",
       "      <td>...</td>\n",
       "    </tr>\n",
       "    <tr>\n",
       "      <th>7050-KQLDO</th>\n",
       "      <td>21</td>\n",
       "      <td>0</td>\n",
       "    </tr>\n",
       "    <tr>\n",
       "      <th>7245-CKNCN</th>\n",
       "      <td>17</td>\n",
       "      <td>0</td>\n",
       "    </tr>\n",
       "    <tr>\n",
       "      <th>7260-ZHAKS</th>\n",
       "      <td>23</td>\n",
       "      <td>0</td>\n",
       "    </tr>\n",
       "    <tr>\n",
       "      <th>7329-TWKLF</th>\n",
       "      <td>22</td>\n",
       "      <td>0</td>\n",
       "    </tr>\n",
       "    <tr>\n",
       "      <th>6160-HCSFI</th>\n",
       "      <td>30</td>\n",
       "      <td>0</td>\n",
       "    </tr>\n",
       "  </tbody>\n",
       "</table>\n",
       "<p>100 rows × 2 columns</p>\n",
       "</div>"
      ],
      "text/plain": [
       "Late         0   1\n",
       "customerID        \n",
       "0688-XNJRO   6  28\n",
       "8102-ABPKQ   5  22\n",
       "1604-LIFKX   2  18\n",
       "7228-LEPPM   6  18\n",
       "6708-DPYTF  13  17\n",
       "...         ..  ..\n",
       "7050-KQLDO  21   0\n",
       "7245-CKNCN  17   0\n",
       "7260-ZHAKS  23   0\n",
       "7329-TWKLF  22   0\n",
       "6160-HCSFI  30   0\n",
       "\n",
       "[100 rows x 2 columns]"
      ]
     },
     "execution_count": 77,
     "metadata": {},
     "output_type": "execute_result"
    }
   ],
   "source": [
    "customer_late =pd.crosstab(index=df_receivable[\"customerID\"], columns=df_receivable['Late'])\n",
    "customer_late.sort_values(by=[1], ascending=False)"
   ]
  },
  {
   "cell_type": "code",
   "execution_count": 78,
   "metadata": {},
   "outputs": [],
   "source": [
    "df1 = df_receivable[df_receivable['DaysLate']>0].copy()\n",
    "df2 = pd.DataFrame(df1.groupby(['customerID'], axis=0, as_index=False)['DaysLate'].count())\n",
    "df2.columns = (['customerID','repeatCust'])\n",
    "df3 = pd.merge(df_receivable, df2, how='left', on='customerID')\n",
    "df3['repeatCust'].fillna(0, inplace=True)"
   ]
  },
  {
   "cell_type": "code",
   "execution_count": 79,
   "metadata": {},
   "outputs": [],
   "source": [
    "df_receivable = df3"
   ]
  },
  {
   "cell_type": "code",
   "execution_count": 80,
   "metadata": {},
   "outputs": [
    {
     "data": {
      "text/plain": [
       "<matplotlib.axes._subplots.AxesSubplot at 0x1a220d0590>"
      ]
     },
     "execution_count": 80,
     "metadata": {},
     "output_type": "execute_result"
    },
    {
     "data": {
      "image/png": "[encoded data removed]",
      "text/plain": [
       "<Figure size 1008x504 with 1 Axes>"
      ]
     },
     "metadata": {},
     "output_type": "display_data"
    }
   ],
   "source": [
    "temp = pd.DataFrame(df_receivable.groupby(['repeatCust'], axis=0, as_index=False)['DaysLate'].mean())\n",
    "plt.figure(figsize=(14,7))\n",
    "sns.barplot(x=\"repeatCust\", y=\"DaysLate\",data=temp,color='blue')"
   ]
  },
  {
   "cell_type": "code",
   "execution_count": 81,
   "metadata": {},
   "outputs": [],
   "source": [
    "def func_IA (x):\n",
    "    if x>60: return \"b. more than 60\"\n",
    "    else: return \"a. less than 60\"\n",
    "df_receivable['InvoiceAmount_bin'] = df_receivable['InvoiceAmount'].apply(func_IA)"
   ]
  },
  {
   "cell_type": "code",
   "execution_count": 82,
   "metadata": {},
   "outputs": [
    {
     "data": {
      "text/html": [
       "<div>\n",
       "<style scoped>\n",
       "    .dataframe tbody tr th:only-of-type {\n",
       "        vertical-align: middle;\n",
       "    }\n",
       "\n",
       "    .dataframe tbody tr th {\n",
       "        vertical-align: top;\n",
       "    }\n",
       "\n",
       "    .dataframe thead th {\n",
       "        text-align: right;\n",
       "    }\n",
       "</style>\n",
       "<table border=\"1\" class=\"dataframe\">\n",
       "  <thead>\n",
       "    <tr style=\"text-align: right;\">\n",
       "      <th></th>\n",
       "      <th>countryCode</th>\n",
       "      <th>customerID</th>\n",
       "      <th>PaperlessDate</th>\n",
       "      <th>invoiceNumber</th>\n",
       "      <th>InvoiceDate</th>\n",
       "      <th>DueDate</th>\n",
       "      <th>InvoiceAmount</th>\n",
       "      <th>Disputed</th>\n",
       "      <th>SettledDate</th>\n",
       "      <th>PaperlessBill</th>\n",
       "      <th>DaysToSettle</th>\n",
       "      <th>DaysLate</th>\n",
       "      <th>Late</th>\n",
       "      <th>countlate</th>\n",
       "      <th>repeatCust</th>\n",
       "      <th>InvoiceAmount_bin</th>\n",
       "    </tr>\n",
       "  </thead>\n",
       "  <tbody>\n",
       "    <tr>\n",
       "      <th>0</th>\n",
       "      <td>391</td>\n",
       "      <td>0379-NEVHP</td>\n",
       "      <td>4/6/2013</td>\n",
       "      <td>611365</td>\n",
       "      <td>2013-01-02</td>\n",
       "      <td>2/1/2013</td>\n",
       "      <td>55.94</td>\n",
       "      <td>No</td>\n",
       "      <td>1/15/2013</td>\n",
       "      <td>Paper</td>\n",
       "      <td>13</td>\n",
       "      <td>0</td>\n",
       "      <td>0</td>\n",
       "      <td>0</td>\n",
       "      <td>1.0</td>\n",
       "      <td>a. less than 60</td>\n",
       "    </tr>\n",
       "    <tr>\n",
       "      <th>1</th>\n",
       "      <td>406</td>\n",
       "      <td>8976-AMJEO</td>\n",
       "      <td>3/3/2012</td>\n",
       "      <td>7900770</td>\n",
       "      <td>2013-01-26</td>\n",
       "      <td>2/25/2013</td>\n",
       "      <td>61.74</td>\n",
       "      <td>Yes</td>\n",
       "      <td>3/3/2013</td>\n",
       "      <td>Electronic</td>\n",
       "      <td>36</td>\n",
       "      <td>6</td>\n",
       "      <td>0</td>\n",
       "      <td>0</td>\n",
       "      <td>5.0</td>\n",
       "      <td>b. more than 60</td>\n",
       "    </tr>\n",
       "    <tr>\n",
       "      <th>2</th>\n",
       "      <td>391</td>\n",
       "      <td>2820-XGXSB</td>\n",
       "      <td>1/26/2012</td>\n",
       "      <td>9231909</td>\n",
       "      <td>2013-07-03</td>\n",
       "      <td>8/2/2013</td>\n",
       "      <td>65.88</td>\n",
       "      <td>No</td>\n",
       "      <td>7/8/2013</td>\n",
       "      <td>Electronic</td>\n",
       "      <td>5</td>\n",
       "      <td>0</td>\n",
       "      <td>0</td>\n",
       "      <td>0</td>\n",
       "      <td>0.0</td>\n",
       "      <td>b. more than 60</td>\n",
       "    </tr>\n",
       "  </tbody>\n",
       "</table>\n",
       "</div>"
      ],
      "text/plain": [
       "   countryCode  customerID PaperlessDate  invoiceNumber InvoiceDate  \\\n",
       "0          391  0379-NEVHP      4/6/2013         611365  2013-01-02   \n",
       "1          406  8976-AMJEO      3/3/2012        7900770  2013-01-26   \n",
       "2          391  2820-XGXSB     1/26/2012        9231909  2013-07-03   \n",
       "\n",
       "     DueDate  InvoiceAmount Disputed SettledDate PaperlessBill  DaysToSettle  \\\n",
       "0   2/1/2013          55.94       No   1/15/2013         Paper            13   \n",
       "1  2/25/2013          61.74      Yes    3/3/2013    Electronic            36   \n",
       "2   8/2/2013          65.88       No    7/8/2013    Electronic             5   \n",
       "\n",
       "   DaysLate  Late  countlate  repeatCust InvoiceAmount_bin  \n",
       "0         0     0          0         1.0   a. less than 60  \n",
       "1         6     0          0         5.0   b. more than 60  \n",
       "2         0     0          0         0.0   b. more than 60  "
      ]
     },
     "execution_count": 82,
     "metadata": {},
     "output_type": "execute_result"
    }
   ],
   "source": [
    "df_receivable.head(3)"
   ]
  },
  {
   "cell_type": "code",
   "execution_count": 83,
   "metadata": {},
   "outputs": [],
   "source": [
    "temp = pd.DataFrame(df_receivable.groupby(['InvoiceAmount_bin'], axis=0, as_index=False)['DaysLate'].mean())"
   ]
  },
  {
   "cell_type": "code",
   "execution_count": 84,
   "metadata": {},
   "outputs": [
    {
     "data": {
      "text/plain": [
       "<matplotlib.axes._subplots.AxesSubplot at 0x1a220f9ad0>"
      ]
     },
     "execution_count": 84,
     "metadata": {},
     "output_type": "execute_result"
    },
    {
     "data": {
      "image/png": "[encoded data removed]",
      "text/plain": [
       "<Figure size 720x432 with 1 Axes>"
      ]
     },
     "metadata": {},
     "output_type": "display_data"
    }
   ],
   "source": [
    "plt.figure(figsize=(10,6))\n",
    "sns.barplot(x=\"InvoiceAmount_bin\", y=\"DaysLate\",data=temp,color='purple')"
   ]
  },
  {
   "cell_type": "markdown",
   "metadata": {},
   "source": [
    "**Generate more features and map some of the categorical variables to integers**<br>\n",
    "Map some of the categorical variables to integers. Generate more insights about a customer with the given data. \n",
    "\n",
    "Eg. Is a company more likely to pay on time if the order occurs at the end of the year? For that we use the **InvoiceQuarter** variable to look at the time that the invoice was made."
   ]
  },
  {
   "cell_type": "code",
   "execution_count": 85,
   "metadata": {},
   "outputs": [],
   "source": [
    "df_receivable['Disputed'] = df_receivable['Disputed'].map({'No':0,'Yes':1})\n",
    "df_receivable['PaperlessBill'] = df_receivable['PaperlessBill'].map({'Paper': 0,'Electronic': 1})"
   ]
  },
  {
   "cell_type": "code",
   "execution_count": 86,
   "metadata": {},
   "outputs": [],
   "source": [
    "df_receivable['InvoiceQuarter']= pd.to_datetime(df_receivable['InvoiceDate']).dt.quarter"
   ]
  },
  {
   "cell_type": "code",
   "execution_count": 87,
   "metadata": {},
   "outputs": [
    {
     "data": {
      "text/html": [
       "<div>\n",
       "<style scoped>\n",
       "    .dataframe tbody tr th:only-of-type {\n",
       "        vertical-align: middle;\n",
       "    }\n",
       "\n",
       "    .dataframe tbody tr th {\n",
       "        vertical-align: top;\n",
       "    }\n",
       "\n",
       "    .dataframe thead th {\n",
       "        text-align: right;\n",
       "    }\n",
       "</style>\n",
       "<table border=\"1\" class=\"dataframe\">\n",
       "  <thead>\n",
       "    <tr style=\"text-align: right;\">\n",
       "      <th></th>\n",
       "      <th>countryCode</th>\n",
       "      <th>customerID</th>\n",
       "      <th>PaperlessDate</th>\n",
       "      <th>invoiceNumber</th>\n",
       "      <th>InvoiceDate</th>\n",
       "      <th>DueDate</th>\n",
       "      <th>InvoiceAmount</th>\n",
       "      <th>Disputed</th>\n",
       "      <th>SettledDate</th>\n",
       "      <th>PaperlessBill</th>\n",
       "      <th>DaysToSettle</th>\n",
       "      <th>DaysLate</th>\n",
       "      <th>Late</th>\n",
       "      <th>countlate</th>\n",
       "      <th>repeatCust</th>\n",
       "      <th>InvoiceAmount_bin</th>\n",
       "      <th>InvoiceQuarter</th>\n",
       "    </tr>\n",
       "  </thead>\n",
       "  <tbody>\n",
       "    <tr>\n",
       "      <th>0</th>\n",
       "      <td>391</td>\n",
       "      <td>0379-NEVHP</td>\n",
       "      <td>4/6/2013</td>\n",
       "      <td>611365</td>\n",
       "      <td>2013-01-02</td>\n",
       "      <td>2/1/2013</td>\n",
       "      <td>55.94</td>\n",
       "      <td>0</td>\n",
       "      <td>1/15/2013</td>\n",
       "      <td>0</td>\n",
       "      <td>13</td>\n",
       "      <td>0</td>\n",
       "      <td>0</td>\n",
       "      <td>0</td>\n",
       "      <td>1.0</td>\n",
       "      <td>a. less than 60</td>\n",
       "      <td>1</td>\n",
       "    </tr>\n",
       "    <tr>\n",
       "      <th>1</th>\n",
       "      <td>406</td>\n",
       "      <td>8976-AMJEO</td>\n",
       "      <td>3/3/2012</td>\n",
       "      <td>7900770</td>\n",
       "      <td>2013-01-26</td>\n",
       "      <td>2/25/2013</td>\n",
       "      <td>61.74</td>\n",
       "      <td>1</td>\n",
       "      <td>3/3/2013</td>\n",
       "      <td>1</td>\n",
       "      <td>36</td>\n",
       "      <td>6</td>\n",
       "      <td>0</td>\n",
       "      <td>0</td>\n",
       "      <td>5.0</td>\n",
       "      <td>b. more than 60</td>\n",
       "      <td>1</td>\n",
       "    </tr>\n",
       "    <tr>\n",
       "      <th>2</th>\n",
       "      <td>391</td>\n",
       "      <td>2820-XGXSB</td>\n",
       "      <td>1/26/2012</td>\n",
       "      <td>9231909</td>\n",
       "      <td>2013-07-03</td>\n",
       "      <td>8/2/2013</td>\n",
       "      <td>65.88</td>\n",
       "      <td>0</td>\n",
       "      <td>7/8/2013</td>\n",
       "      <td>1</td>\n",
       "      <td>5</td>\n",
       "      <td>0</td>\n",
       "      <td>0</td>\n",
       "      <td>0</td>\n",
       "      <td>0.0</td>\n",
       "      <td>b. more than 60</td>\n",
       "      <td>3</td>\n",
       "    </tr>\n",
       "  </tbody>\n",
       "</table>\n",
       "</div>"
      ],
      "text/plain": [
       "   countryCode  customerID PaperlessDate  invoiceNumber InvoiceDate  \\\n",
       "0          391  0379-NEVHP      4/6/2013         611365  2013-01-02   \n",
       "1          406  8976-AMJEO      3/3/2012        7900770  2013-01-26   \n",
       "2          391  2820-XGXSB     1/26/2012        9231909  2013-07-03   \n",
       "\n",
       "     DueDate  InvoiceAmount  Disputed SettledDate  PaperlessBill  \\\n",
       "0   2/1/2013          55.94         0   1/15/2013              0   \n",
       "1  2/25/2013          61.74         1    3/3/2013              1   \n",
       "2   8/2/2013          65.88         0    7/8/2013              1   \n",
       "\n",
       "   DaysToSettle  DaysLate  Late  countlate  repeatCust InvoiceAmount_bin  \\\n",
       "0            13         0     0          0         1.0   a. less than 60   \n",
       "1            36         6     0          0         5.0   b. more than 60   \n",
       "2             5         0     0          0         0.0   b. more than 60   \n",
       "\n",
       "   InvoiceQuarter  \n",
       "0               1  \n",
       "1               1  \n",
       "2               3  "
      ]
     },
     "execution_count": 87,
     "metadata": {},
     "output_type": "execute_result"
    }
   ],
   "source": [
    "df_receivable.head(3)"
   ]
  },
  {
   "cell_type": "markdown",
   "metadata": {},
   "source": [
    "Check for relation to late with  other variable to"
   ]
  },
  {
   "cell_type": "code",
   "execution_count": 88,
   "metadata": {},
   "outputs": [
    {
     "data": {
      "image/png": "[encoded data removed]",
      "text/plain": [
       "<Figure size 720x576 with 1 Axes>"
      ]
     },
     "metadata": {},
     "output_type": "display_data"
    }
   ],
   "source": [
    "plt.figure(figsize=(10,8))\n",
    "ax = sns.countplot(df_receivable['countryCode'],hue=df_receivable['Late'],palette=\"YlGn\")"
   ]
  },
  {
   "cell_type": "code",
   "execution_count": 89,
   "metadata": {},
   "outputs": [
    {
     "data": {
      "text/plain": [
       "<matplotlib.axes._subplots.AxesSubplot at 0x1a225a7090>"
      ]
     },
     "execution_count": 89,
     "metadata": {},
     "output_type": "execute_result"
    },
    {
     "data": {
      "image/png": "[encoded data removed]",
      "text/plain": [
       "<Figure size 720x576 with 1 Axes>"
      ]
     },
     "metadata": {},
     "output_type": "display_data"
    }
   ],
   "source": [
    "plt.figure(figsize=(10,8))\n",
    "sns.countplot(df_receivable['InvoiceQuarter'],hue=df_receivable['Late'],palette='bright')"
   ]
  },
  {
   "cell_type": "code",
   "execution_count": 90,
   "metadata": {},
   "outputs": [
    {
     "data": {
      "text/plain": [
       "<matplotlib.axes._subplots.AxesSubplot at 0x1a2270a1d0>"
      ]
     },
     "execution_count": 90,
     "metadata": {},
     "output_type": "execute_result"
    },
    {
     "data": {
      "image/png": "[encoded data removed]",
      "text/plain": [
       "<Figure size 720x576 with 1 Axes>"
      ]
     },
     "metadata": {},
     "output_type": "display_data"
    }
   ],
   "source": [
    "plt.figure(figsize=(10,8))\n",
    "sns.countplot(df_receivable['PaperlessBill'],hue=df_receivable['Late'],palette='YlOrRd')"
   ]
  },
  {
   "cell_type": "code",
   "execution_count": 91,
   "metadata": {},
   "outputs": [
    {
     "data": {
      "text/plain": [
       "<matplotlib.axes._subplots.AxesSubplot at 0x1a228c0590>"
      ]
     },
     "execution_count": 91,
     "metadata": {},
     "output_type": "execute_result"
    },
    {
     "data": {
      "image/png": "[encoded data removed]",
      "text/plain": [
       "<Figure size 720x576 with 1 Axes>"
      ]
     },
     "metadata": {},
     "output_type": "display_data"
    }
   ],
   "source": [
    "plt.figure(figsize=(10,8))\n",
    "sns.countplot(df_receivable['Disputed'],hue=df_receivable['Late'],palette='BuGn')"
   ]
  },
  {
   "cell_type": "markdown",
   "metadata": {},
   "source": [
    "\n",
    "### Distributions of Invoice Amounts and Days to settle\n",
    "It may be useful to understand the distribution of some variables. This can be helpful if we wish to know within reasonable assumptions what our confidence intervals are for payments or how long it takes for a customer to settle."
   ]
  },
  {
   "cell_type": "code",
   "execution_count": 92,
   "metadata": {},
   "outputs": [
    {
     "data": {
      "text/plain": [
       "Text(0.5, 1.0, 'Invoice Amount')"
      ]
     },
     "execution_count": 92,
     "metadata": {},
     "output_type": "execute_result"
    },
    {
     "data": {
      "image/png": "[encoded data removed]",
      "text/plain": [
       "<Figure size 576x576 with 1 Axes>"
      ]
     },
     "metadata": {},
     "output_type": "display_data"
    }
   ],
   "source": [
    "plt.figure(figsize=(8,8))\n",
    "invoice_plot = sns.distplot(df_receivable['InvoiceAmount'],color='green')\n",
    "invoice_plot.axes.set_title(\"Invoice Amount\",fontsize=24)"
   ]
  },
  {
   "cell_type": "code",
   "execution_count": 93,
   "metadata": {},
   "outputs": [
    {
     "data": {
      "text/plain": [
       "Text(0.5, 1.0, 'Days to Settle')"
      ]
     },
     "execution_count": 93,
     "metadata": {},
     "output_type": "execute_result"
    },
    {
     "data": {
      "image/png": "[encoded data removed]",
      "text/plain": [
       "<Figure size 576x576 with 1 Axes>"
      ]
     },
     "metadata": {},
     "output_type": "display_data"
    }
   ],
   "source": [
    "plt.figure(figsize=(8,8))\n",
    "settle_plot = sns.distplot(df_receivable['DaysToSettle'],color='blue')\n",
    "settle_plot.axes.set_title(\"Days to Settle\",fontsize=24)"
   ]
  },
  {
   "cell_type": "markdown",
   "metadata": {},
   "source": [
    "Finally, label customers with integers for processing in the model."
   ]
  },
  {
   "cell_type": "code",
   "execution_count": 94,
   "metadata": {},
   "outputs": [],
   "source": [
    "labels = df_receivable['customerID'].astype('category').cat.categories.tolist()"
   ]
  },
  {
   "cell_type": "code",
   "execution_count": 95,
   "metadata": {},
   "outputs": [],
   "source": [
    "replace_map_comp = {'customerID' : {k: v for k,v in zip(labels,list(range(1,len(labels)+1)))}}"
   ]
  },
  {
   "cell_type": "code",
   "execution_count": 96,
   "metadata": {},
   "outputs": [],
   "source": [
    "# replace the customerID with Integers\n",
    "df_receivable.replace(replace_map_comp, inplace=True)"
   ]
  },
  {
   "cell_type": "code",
   "execution_count": 97,
   "metadata": {},
   "outputs": [
    {
     "data": {
      "text/html": [
       "<div>\n",
       "<style scoped>\n",
       "    .dataframe tbody tr th:only-of-type {\n",
       "        vertical-align: middle;\n",
       "    }\n",
       "\n",
       "    .dataframe tbody tr th {\n",
       "        vertical-align: top;\n",
       "    }\n",
       "\n",
       "    .dataframe thead th {\n",
       "        text-align: right;\n",
       "    }\n",
       "</style>\n",
       "<table border=\"1\" class=\"dataframe\">\n",
       "  <thead>\n",
       "    <tr style=\"text-align: right;\">\n",
       "      <th></th>\n",
       "      <th>countryCode</th>\n",
       "      <th>customerID</th>\n",
       "      <th>PaperlessDate</th>\n",
       "      <th>invoiceNumber</th>\n",
       "      <th>InvoiceDate</th>\n",
       "      <th>DueDate</th>\n",
       "      <th>InvoiceAmount</th>\n",
       "      <th>Disputed</th>\n",
       "      <th>SettledDate</th>\n",
       "      <th>PaperlessBill</th>\n",
       "      <th>DaysToSettle</th>\n",
       "      <th>DaysLate</th>\n",
       "      <th>Late</th>\n",
       "      <th>countlate</th>\n",
       "      <th>repeatCust</th>\n",
       "      <th>InvoiceAmount_bin</th>\n",
       "      <th>InvoiceQuarter</th>\n",
       "    </tr>\n",
       "  </thead>\n",
       "  <tbody>\n",
       "    <tr>\n",
       "      <th>0</th>\n",
       "      <td>391</td>\n",
       "      <td>2</td>\n",
       "      <td>4/6/2013</td>\n",
       "      <td>611365</td>\n",
       "      <td>2013-01-02</td>\n",
       "      <td>2/1/2013</td>\n",
       "      <td>55.94</td>\n",
       "      <td>0</td>\n",
       "      <td>1/15/2013</td>\n",
       "      <td>0</td>\n",
       "      <td>13</td>\n",
       "      <td>0</td>\n",
       "      <td>0</td>\n",
       "      <td>0</td>\n",
       "      <td>1.0</td>\n",
       "      <td>a. less than 60</td>\n",
       "      <td>1</td>\n",
       "    </tr>\n",
       "    <tr>\n",
       "      <th>1</th>\n",
       "      <td>406</td>\n",
       "      <td>83</td>\n",
       "      <td>3/3/2012</td>\n",
       "      <td>7900770</td>\n",
       "      <td>2013-01-26</td>\n",
       "      <td>2/25/2013</td>\n",
       "      <td>61.74</td>\n",
       "      <td>1</td>\n",
       "      <td>3/3/2013</td>\n",
       "      <td>1</td>\n",
       "      <td>36</td>\n",
       "      <td>6</td>\n",
       "      <td>0</td>\n",
       "      <td>0</td>\n",
       "      <td>5.0</td>\n",
       "      <td>b. more than 60</td>\n",
       "      <td>1</td>\n",
       "    </tr>\n",
       "    <tr>\n",
       "      <th>2</th>\n",
       "      <td>391</td>\n",
       "      <td>21</td>\n",
       "      <td>1/26/2012</td>\n",
       "      <td>9231909</td>\n",
       "      <td>2013-07-03</td>\n",
       "      <td>8/2/2013</td>\n",
       "      <td>65.88</td>\n",
       "      <td>0</td>\n",
       "      <td>7/8/2013</td>\n",
       "      <td>1</td>\n",
       "      <td>5</td>\n",
       "      <td>0</td>\n",
       "      <td>0</td>\n",
       "      <td>0</td>\n",
       "      <td>0.0</td>\n",
       "      <td>b. more than 60</td>\n",
       "      <td>3</td>\n",
       "    </tr>\n",
       "  </tbody>\n",
       "</table>\n",
       "</div>"
      ],
      "text/plain": [
       "   countryCode  customerID PaperlessDate  invoiceNumber InvoiceDate  \\\n",
       "0          391           2      4/6/2013         611365  2013-01-02   \n",
       "1          406          83      3/3/2012        7900770  2013-01-26   \n",
       "2          391          21     1/26/2012        9231909  2013-07-03   \n",
       "\n",
       "     DueDate  InvoiceAmount  Disputed SettledDate  PaperlessBill  \\\n",
       "0   2/1/2013          55.94         0   1/15/2013              0   \n",
       "1  2/25/2013          61.74         1    3/3/2013              1   \n",
       "2   8/2/2013          65.88         0    7/8/2013              1   \n",
       "\n",
       "   DaysToSettle  DaysLate  Late  countlate  repeatCust InvoiceAmount_bin  \\\n",
       "0            13         0     0          0         1.0   a. less than 60   \n",
       "1            36         6     0          0         5.0   b. more than 60   \n",
       "2             5         0     0          0         0.0   b. more than 60   \n",
       "\n",
       "   InvoiceQuarter  \n",
       "0               1  \n",
       "1               1  \n",
       "2               3  "
      ]
     },
     "execution_count": 97,
     "metadata": {},
     "output_type": "execute_result"
    }
   ],
   "source": [
    "df_receivable.head(3)"
   ]
  },
  {
   "cell_type": "markdown",
   "metadata": {},
   "source": [
    "## Train a model to Predict if a payment will be late"
   ]
  },
  {
   "cell_type": "code",
   "execution_count": 98,
   "metadata": {},
   "outputs": [
    {
     "data": {
      "text/html": [
       "<div>\n",
       "<style scoped>\n",
       "    .dataframe tbody tr th:only-of-type {\n",
       "        vertical-align: middle;\n",
       "    }\n",
       "\n",
       "    .dataframe tbody tr th {\n",
       "        vertical-align: top;\n",
       "    }\n",
       "\n",
       "    .dataframe thead th {\n",
       "        text-align: right;\n",
       "    }\n",
       "</style>\n",
       "<table border=\"1\" class=\"dataframe\">\n",
       "  <thead>\n",
       "    <tr style=\"text-align: right;\">\n",
       "      <th></th>\n",
       "      <th>countryCode</th>\n",
       "      <th>customerID</th>\n",
       "      <th>PaperlessDate</th>\n",
       "      <th>invoiceNumber</th>\n",
       "      <th>InvoiceDate</th>\n",
       "      <th>DueDate</th>\n",
       "      <th>InvoiceAmount</th>\n",
       "      <th>Disputed</th>\n",
       "      <th>SettledDate</th>\n",
       "      <th>PaperlessBill</th>\n",
       "      <th>DaysToSettle</th>\n",
       "      <th>DaysLate</th>\n",
       "      <th>Late</th>\n",
       "      <th>countlate</th>\n",
       "      <th>repeatCust</th>\n",
       "      <th>InvoiceAmount_bin</th>\n",
       "      <th>InvoiceQuarter</th>\n",
       "    </tr>\n",
       "  </thead>\n",
       "  <tbody>\n",
       "    <tr>\n",
       "      <th>0</th>\n",
       "      <td>391</td>\n",
       "      <td>2</td>\n",
       "      <td>4/6/2013</td>\n",
       "      <td>611365</td>\n",
       "      <td>2013-01-02</td>\n",
       "      <td>2/1/2013</td>\n",
       "      <td>55.94</td>\n",
       "      <td>0</td>\n",
       "      <td>1/15/2013</td>\n",
       "      <td>0</td>\n",
       "      <td>13</td>\n",
       "      <td>0</td>\n",
       "      <td>0</td>\n",
       "      <td>0</td>\n",
       "      <td>1.0</td>\n",
       "      <td>a. less than 60</td>\n",
       "      <td>1</td>\n",
       "    </tr>\n",
       "    <tr>\n",
       "      <th>1</th>\n",
       "      <td>406</td>\n",
       "      <td>83</td>\n",
       "      <td>3/3/2012</td>\n",
       "      <td>7900770</td>\n",
       "      <td>2013-01-26</td>\n",
       "      <td>2/25/2013</td>\n",
       "      <td>61.74</td>\n",
       "      <td>1</td>\n",
       "      <td>3/3/2013</td>\n",
       "      <td>1</td>\n",
       "      <td>36</td>\n",
       "      <td>6</td>\n",
       "      <td>0</td>\n",
       "      <td>0</td>\n",
       "      <td>5.0</td>\n",
       "      <td>b. more than 60</td>\n",
       "      <td>1</td>\n",
       "    </tr>\n",
       "    <tr>\n",
       "      <th>2</th>\n",
       "      <td>391</td>\n",
       "      <td>21</td>\n",
       "      <td>1/26/2012</td>\n",
       "      <td>9231909</td>\n",
       "      <td>2013-07-03</td>\n",
       "      <td>8/2/2013</td>\n",
       "      <td>65.88</td>\n",
       "      <td>0</td>\n",
       "      <td>7/8/2013</td>\n",
       "      <td>1</td>\n",
       "      <td>5</td>\n",
       "      <td>0</td>\n",
       "      <td>0</td>\n",
       "      <td>0</td>\n",
       "      <td>0.0</td>\n",
       "      <td>b. more than 60</td>\n",
       "      <td>3</td>\n",
       "    </tr>\n",
       "  </tbody>\n",
       "</table>\n",
       "</div>"
      ],
      "text/plain": [
       "   countryCode  customerID PaperlessDate  invoiceNumber InvoiceDate  \\\n",
       "0          391           2      4/6/2013         611365  2013-01-02   \n",
       "1          406          83      3/3/2012        7900770  2013-01-26   \n",
       "2          391          21     1/26/2012        9231909  2013-07-03   \n",
       "\n",
       "     DueDate  InvoiceAmount  Disputed SettledDate  PaperlessBill  \\\n",
       "0   2/1/2013          55.94         0   1/15/2013              0   \n",
       "1  2/25/2013          61.74         1    3/3/2013              1   \n",
       "2   8/2/2013          65.88         0    7/8/2013              1   \n",
       "\n",
       "   DaysToSettle  DaysLate  Late  countlate  repeatCust InvoiceAmount_bin  \\\n",
       "0            13         0     0          0         1.0   a. less than 60   \n",
       "1            36         6     0          0         5.0   b. more than 60   \n",
       "2             5         0     0          0         0.0   b. more than 60   \n",
       "\n",
       "   InvoiceQuarter  \n",
       "0               1  \n",
       "1               1  \n",
       "2               3  "
      ]
     },
     "execution_count": 98,
     "metadata": {},
     "output_type": "execute_result"
    }
   ],
   "source": [
    "df_receivable.head(3)"
   ]
  },
  {
   "cell_type": "code",
   "execution_count": 99,
   "metadata": {},
   "outputs": [
    {
     "data": {
      "image/png": "[encoded data removed]",
      "text/plain": [
       "<Figure size 720x720 with 2 Axes>"
      ]
     },
     "metadata": {},
     "output_type": "display_data"
    }
   ],
   "source": [
    "corremat = df_receivable.corr()\n",
    "plt.figure(figsize=(10,10))\n",
    "g= sns.heatmap(df_receivable.corr(),annot=True,cmap='viridis',linewidths=.5)"
   ]
  },
  {
   "cell_type": "code",
   "execution_count": 100,
   "metadata": {},
   "outputs": [
    {
     "data": {
      "text/html": [
       "<div>\n",
       "<style scoped>\n",
       "    .dataframe tbody tr th:only-of-type {\n",
       "        vertical-align: middle;\n",
       "    }\n",
       "\n",
       "    .dataframe tbody tr th {\n",
       "        vertical-align: top;\n",
       "    }\n",
       "\n",
       "    .dataframe thead th {\n",
       "        text-align: right;\n",
       "    }\n",
       "</style>\n",
       "<table border=\"1\" class=\"dataframe\">\n",
       "  <thead>\n",
       "    <tr style=\"text-align: right;\">\n",
       "      <th></th>\n",
       "      <th>countryCode</th>\n",
       "      <th>customerID</th>\n",
       "      <th>invoiceNumber</th>\n",
       "      <th>InvoiceAmount</th>\n",
       "      <th>Disputed</th>\n",
       "      <th>PaperlessBill</th>\n",
       "      <th>DaysToSettle</th>\n",
       "      <th>DaysLate</th>\n",
       "      <th>Late</th>\n",
       "      <th>countlate</th>\n",
       "      <th>repeatCust</th>\n",
       "      <th>InvoiceQuarter</th>\n",
       "    </tr>\n",
       "  </thead>\n",
       "  <tbody>\n",
       "    <tr>\n",
       "      <th>countryCode</th>\n",
       "      <td>1.000000</td>\n",
       "      <td>0.055996</td>\n",
       "      <td>0.015996</td>\n",
       "      <td>-0.384881</td>\n",
       "      <td>-0.007806</td>\n",
       "      <td>-0.059781</td>\n",
       "      <td>0.066341</td>\n",
       "      <td>0.090462</td>\n",
       "      <td>0.071228</td>\n",
       "      <td>0.133587</td>\n",
       "      <td>0.091388</td>\n",
       "      <td>0.008669</td>\n",
       "    </tr>\n",
       "    <tr>\n",
       "      <th>customerID</th>\n",
       "      <td>0.055996</td>\n",
       "      <td>1.000000</td>\n",
       "      <td>-0.035368</td>\n",
       "      <td>-0.068384</td>\n",
       "      <td>0.005046</td>\n",
       "      <td>0.086265</td>\n",
       "      <td>-0.024467</td>\n",
       "      <td>-0.062012</td>\n",
       "      <td>-0.076031</td>\n",
       "      <td>-0.102358</td>\n",
       "      <td>-0.017503</td>\n",
       "      <td>0.006893</td>\n",
       "    </tr>\n",
       "    <tr>\n",
       "      <th>invoiceNumber</th>\n",
       "      <td>0.015996</td>\n",
       "      <td>-0.035368</td>\n",
       "      <td>1.000000</td>\n",
       "      <td>-0.032699</td>\n",
       "      <td>-0.050752</td>\n",
       "      <td>-0.025532</td>\n",
       "      <td>-0.005921</td>\n",
       "      <td>0.004402</td>\n",
       "      <td>-0.006304</td>\n",
       "      <td>0.332705</td>\n",
       "      <td>-0.026865</td>\n",
       "      <td>-0.023844</td>\n",
       "    </tr>\n",
       "    <tr>\n",
       "      <th>InvoiceAmount</th>\n",
       "      <td>-0.384881</td>\n",
       "      <td>-0.068384</td>\n",
       "      <td>-0.032699</td>\n",
       "      <td>1.000000</td>\n",
       "      <td>0.148876</td>\n",
       "      <td>0.026988</td>\n",
       "      <td>0.060786</td>\n",
       "      <td>0.059980</td>\n",
       "      <td>0.047189</td>\n",
       "      <td>-0.023957</td>\n",
       "      <td>0.022979</td>\n",
       "      <td>-0.015622</td>\n",
       "    </tr>\n",
       "    <tr>\n",
       "      <th>Disputed</th>\n",
       "      <td>-0.007806</td>\n",
       "      <td>0.005046</td>\n",
       "      <td>-0.050752</td>\n",
       "      <td>0.148876</td>\n",
       "      <td>1.000000</td>\n",
       "      <td>0.004499</td>\n",
       "      <td>0.439126</td>\n",
       "      <td>0.443232</td>\n",
       "      <td>0.380098</td>\n",
       "      <td>0.125537</td>\n",
       "      <td>0.198035</td>\n",
       "      <td>-0.026818</td>\n",
       "    </tr>\n",
       "    <tr>\n",
       "      <th>PaperlessBill</th>\n",
       "      <td>-0.059781</td>\n",
       "      <td>0.086265</td>\n",
       "      <td>-0.025532</td>\n",
       "      <td>0.026988</td>\n",
       "      <td>0.004499</td>\n",
       "      <td>1.000000</td>\n",
       "      <td>-0.225976</td>\n",
       "      <td>-0.163333</td>\n",
       "      <td>-0.157354</td>\n",
       "      <td>-0.051442</td>\n",
       "      <td>-0.030787</td>\n",
       "      <td>0.231733</td>\n",
       "    </tr>\n",
       "    <tr>\n",
       "      <th>DaysToSettle</th>\n",
       "      <td>0.066341</td>\n",
       "      <td>-0.024467</td>\n",
       "      <td>-0.005921</td>\n",
       "      <td>0.060786</td>\n",
       "      <td>0.439126</td>\n",
       "      <td>-0.225976</td>\n",
       "      <td>1.000000</td>\n",
       "      <td>0.820552</td>\n",
       "      <td>0.715268</td>\n",
       "      <td>0.508998</td>\n",
       "      <td>0.711414</td>\n",
       "      <td>-0.079688</td>\n",
       "    </tr>\n",
       "    <tr>\n",
       "      <th>DaysLate</th>\n",
       "      <td>0.090462</td>\n",
       "      <td>-0.062012</td>\n",
       "      <td>0.004402</td>\n",
       "      <td>0.059980</td>\n",
       "      <td>0.443232</td>\n",
       "      <td>-0.163333</td>\n",
       "      <td>0.820552</td>\n",
       "      <td>1.000000</td>\n",
       "      <td>0.871168</td>\n",
       "      <td>0.474173</td>\n",
       "      <td>0.583004</td>\n",
       "      <td>-0.081694</td>\n",
       "    </tr>\n",
       "    <tr>\n",
       "      <th>Late</th>\n",
       "      <td>0.071228</td>\n",
       "      <td>-0.076031</td>\n",
       "      <td>-0.006304</td>\n",
       "      <td>0.047189</td>\n",
       "      <td>0.380098</td>\n",
       "      <td>-0.157354</td>\n",
       "      <td>0.715268</td>\n",
       "      <td>0.871168</td>\n",
       "      <td>1.000000</td>\n",
       "      <td>0.413271</td>\n",
       "      <td>0.526351</td>\n",
       "      <td>-0.080650</td>\n",
       "    </tr>\n",
       "    <tr>\n",
       "      <th>countlate</th>\n",
       "      <td>0.133587</td>\n",
       "      <td>-0.102358</td>\n",
       "      <td>0.332705</td>\n",
       "      <td>-0.023957</td>\n",
       "      <td>0.125537</td>\n",
       "      <td>-0.051442</td>\n",
       "      <td>0.508998</td>\n",
       "      <td>0.474173</td>\n",
       "      <td>0.413271</td>\n",
       "      <td>1.000000</td>\n",
       "      <td>0.724660</td>\n",
       "      <td>0.010602</td>\n",
       "    </tr>\n",
       "    <tr>\n",
       "      <th>repeatCust</th>\n",
       "      <td>0.091388</td>\n",
       "      <td>-0.017503</td>\n",
       "      <td>-0.026865</td>\n",
       "      <td>0.022979</td>\n",
       "      <td>0.198035</td>\n",
       "      <td>-0.030787</td>\n",
       "      <td>0.711414</td>\n",
       "      <td>0.583004</td>\n",
       "      <td>0.526351</td>\n",
       "      <td>0.724660</td>\n",
       "      <td>1.000000</td>\n",
       "      <td>0.001364</td>\n",
       "    </tr>\n",
       "    <tr>\n",
       "      <th>InvoiceQuarter</th>\n",
       "      <td>0.008669</td>\n",
       "      <td>0.006893</td>\n",
       "      <td>-0.023844</td>\n",
       "      <td>-0.015622</td>\n",
       "      <td>-0.026818</td>\n",
       "      <td>0.231733</td>\n",
       "      <td>-0.079688</td>\n",
       "      <td>-0.081694</td>\n",
       "      <td>-0.080650</td>\n",
       "      <td>0.010602</td>\n",
       "      <td>0.001364</td>\n",
       "      <td>1.000000</td>\n",
       "    </tr>\n",
       "  </tbody>\n",
       "</table>\n",
       "</div>"
      ],
      "text/plain": [
       "                countryCode  customerID  invoiceNumber  InvoiceAmount  \\\n",
       "countryCode        1.000000    0.055996       0.015996      -0.384881   \n",
       "customerID         0.055996    1.000000      -0.035368      -0.068384   \n",
       "invoiceNumber      0.015996   -0.035368       1.000000      -0.032699   \n",
       "InvoiceAmount     -0.384881   -0.068384      -0.032699       1.000000   \n",
       "Disputed          -0.007806    0.005046      -0.050752       0.148876   \n",
       "PaperlessBill     -0.059781    0.086265      -0.025532       0.026988   \n",
       "DaysToSettle       0.066341   -0.024467      -0.005921       0.060786   \n",
       "DaysLate           0.090462   -0.062012       0.004402       0.059980   \n",
       "Late               0.071228   -0.076031      -0.006304       0.047189   \n",
       "countlate          0.133587   -0.102358       0.332705      -0.023957   \n",
       "repeatCust         0.091388   -0.017503      -0.026865       0.022979   \n",
       "InvoiceQuarter     0.008669    0.006893      -0.023844      -0.015622   \n",
       "\n",
       "                Disputed  PaperlessBill  DaysToSettle  DaysLate      Late  \\\n",
       "countryCode    -0.007806      -0.059781      0.066341  0.090462  0.071228   \n",
       "customerID      0.005046       0.086265     -0.024467 -0.062012 -0.076031   \n",
       "invoiceNumber  -0.050752      -0.025532     -0.005921  0.004402 -0.006304   \n",
       "InvoiceAmount   0.148876       0.026988      0.060786  0.059980  0.047189   \n",
       "Disputed        1.000000       0.004499      0.439126  0.443232  0.380098   \n",
       "PaperlessBill   0.004499       1.000000     -0.225976 -0.163333 -0.157354   \n",
       "DaysToSettle    0.439126      -0.225976      1.000000  0.820552  0.715268   \n",
       "DaysLate        0.443232      -0.163333      0.820552  1.000000  0.871168   \n",
       "Late            0.380098      -0.157354      0.715268  0.871168  1.000000   \n",
       "countlate       0.125537      -0.051442      0.508998  0.474173  0.413271   \n",
       "repeatCust      0.198035      -0.030787      0.711414  0.583004  0.526351   \n",
       "InvoiceQuarter -0.026818       0.231733     -0.079688 -0.081694 -0.080650   \n",
       "\n",
       "                countlate  repeatCust  InvoiceQuarter  \n",
       "countryCode      0.133587    0.091388        0.008669  \n",
       "customerID      -0.102358   -0.017503        0.006893  \n",
       "invoiceNumber    0.332705   -0.026865       -0.023844  \n",
       "InvoiceAmount   -0.023957    0.022979       -0.015622  \n",
       "Disputed         0.125537    0.198035       -0.026818  \n",
       "PaperlessBill   -0.051442   -0.030787        0.231733  \n",
       "DaysToSettle     0.508998    0.711414       -0.079688  \n",
       "DaysLate         0.474173    0.583004       -0.081694  \n",
       "Late             0.413271    0.526351       -0.080650  \n",
       "countlate        1.000000    0.724660        0.010602  \n",
       "repeatCust       0.724660    1.000000        0.001364  \n",
       "InvoiceQuarter   0.010602    0.001364        1.000000  "
      ]
     },
     "execution_count": 100,
     "metadata": {},
     "output_type": "execute_result"
    }
   ],
   "source": [
    "corremat"
   ]
  },
  {
   "cell_type": "code",
   "execution_count": 101,
   "metadata": {},
   "outputs": [
    {
     "data": {
      "text/plain": [
       "Index(['countryCode', 'customerID', 'invoiceNumber', 'InvoiceAmount',\n",
       "       'Disputed', 'PaperlessBill', 'DaysToSettle', 'DaysLate', 'Late',\n",
       "       'countlate', 'repeatCust', 'InvoiceQuarter'],\n",
       "      dtype='object')"
      ]
     },
     "execution_count": 101,
     "metadata": {},
     "output_type": "execute_result"
    }
   ],
   "source": [
    "corremat.columns\n"
   ]
  },
  {
   "cell_type": "code",
   "execution_count": 102,
   "metadata": {},
   "outputs": [],
   "source": [
    "cat_feats = ['InvoiceAmount_bin']\n",
    "final_data = pd.get_dummies(df_receivable,columns=cat_feats,drop_first=True)"
   ]
  },
  {
   "cell_type": "code",
   "execution_count": 103,
   "metadata": {},
   "outputs": [
    {
     "data": {
      "text/html": [
       "<div>\n",
       "<style scoped>\n",
       "    .dataframe tbody tr th:only-of-type {\n",
       "        vertical-align: middle;\n",
       "    }\n",
       "\n",
       "    .dataframe tbody tr th {\n",
       "        vertical-align: top;\n",
       "    }\n",
       "\n",
       "    .dataframe thead th {\n",
       "        text-align: right;\n",
       "    }\n",
       "</style>\n",
       "<table border=\"1\" class=\"dataframe\">\n",
       "  <thead>\n",
       "    <tr style=\"text-align: right;\">\n",
       "      <th></th>\n",
       "      <th>countryCode</th>\n",
       "      <th>customerID</th>\n",
       "      <th>PaperlessDate</th>\n",
       "      <th>invoiceNumber</th>\n",
       "      <th>InvoiceDate</th>\n",
       "      <th>DueDate</th>\n",
       "      <th>InvoiceAmount</th>\n",
       "      <th>Disputed</th>\n",
       "      <th>SettledDate</th>\n",
       "      <th>PaperlessBill</th>\n",
       "      <th>DaysToSettle</th>\n",
       "      <th>DaysLate</th>\n",
       "      <th>Late</th>\n",
       "      <th>countlate</th>\n",
       "      <th>repeatCust</th>\n",
       "      <th>InvoiceQuarter</th>\n",
       "      <th>InvoiceAmount_bin_b. more than 60</th>\n",
       "    </tr>\n",
       "  </thead>\n",
       "  <tbody>\n",
       "    <tr>\n",
       "      <th>0</th>\n",
       "      <td>391</td>\n",
       "      <td>2</td>\n",
       "      <td>4/6/2013</td>\n",
       "      <td>611365</td>\n",
       "      <td>2013-01-02</td>\n",
       "      <td>2/1/2013</td>\n",
       "      <td>55.94</td>\n",
       "      <td>0</td>\n",
       "      <td>1/15/2013</td>\n",
       "      <td>0</td>\n",
       "      <td>13</td>\n",
       "      <td>0</td>\n",
       "      <td>0</td>\n",
       "      <td>0</td>\n",
       "      <td>1.0</td>\n",
       "      <td>1</td>\n",
       "      <td>0</td>\n",
       "    </tr>\n",
       "    <tr>\n",
       "      <th>1</th>\n",
       "      <td>406</td>\n",
       "      <td>83</td>\n",
       "      <td>3/3/2012</td>\n",
       "      <td>7900770</td>\n",
       "      <td>2013-01-26</td>\n",
       "      <td>2/25/2013</td>\n",
       "      <td>61.74</td>\n",
       "      <td>1</td>\n",
       "      <td>3/3/2013</td>\n",
       "      <td>1</td>\n",
       "      <td>36</td>\n",
       "      <td>6</td>\n",
       "      <td>0</td>\n",
       "      <td>0</td>\n",
       "      <td>5.0</td>\n",
       "      <td>1</td>\n",
       "      <td>1</td>\n",
       "    </tr>\n",
       "    <tr>\n",
       "      <th>2</th>\n",
       "      <td>391</td>\n",
       "      <td>21</td>\n",
       "      <td>1/26/2012</td>\n",
       "      <td>9231909</td>\n",
       "      <td>2013-07-03</td>\n",
       "      <td>8/2/2013</td>\n",
       "      <td>65.88</td>\n",
       "      <td>0</td>\n",
       "      <td>7/8/2013</td>\n",
       "      <td>1</td>\n",
       "      <td>5</td>\n",
       "      <td>0</td>\n",
       "      <td>0</td>\n",
       "      <td>0</td>\n",
       "      <td>0.0</td>\n",
       "      <td>3</td>\n",
       "      <td>1</td>\n",
       "    </tr>\n",
       "    <tr>\n",
       "      <th>3</th>\n",
       "      <td>406</td>\n",
       "      <td>92</td>\n",
       "      <td>4/6/2012</td>\n",
       "      <td>9888306</td>\n",
       "      <td>2013-02-10</td>\n",
       "      <td>3/12/2013</td>\n",
       "      <td>105.92</td>\n",
       "      <td>0</td>\n",
       "      <td>3/17/2013</td>\n",
       "      <td>1</td>\n",
       "      <td>35</td>\n",
       "      <td>5</td>\n",
       "      <td>0</td>\n",
       "      <td>0</td>\n",
       "      <td>17.0</td>\n",
       "      <td>1</td>\n",
       "      <td>1</td>\n",
       "    </tr>\n",
       "    <tr>\n",
       "      <th>4</th>\n",
       "      <td>818</td>\n",
       "      <td>55</td>\n",
       "      <td>11/26/2012</td>\n",
       "      <td>15752855</td>\n",
       "      <td>2012-10-25</td>\n",
       "      <td>11/24/2012</td>\n",
       "      <td>72.27</td>\n",
       "      <td>1</td>\n",
       "      <td>11/28/2012</td>\n",
       "      <td>0</td>\n",
       "      <td>34</td>\n",
       "      <td>4</td>\n",
       "      <td>0</td>\n",
       "      <td>0</td>\n",
       "      <td>9.0</td>\n",
       "      <td>4</td>\n",
       "      <td>1</td>\n",
       "    </tr>\n",
       "    <tr>\n",
       "      <th>5</th>\n",
       "      <td>818</td>\n",
       "      <td>37</td>\n",
       "      <td>8/28/2013</td>\n",
       "      <td>18104516</td>\n",
       "      <td>2012-01-27</td>\n",
       "      <td>2/26/2012</td>\n",
       "      <td>94.00</td>\n",
       "      <td>1</td>\n",
       "      <td>2/22/2012</td>\n",
       "      <td>0</td>\n",
       "      <td>26</td>\n",
       "      <td>0</td>\n",
       "      <td>0</td>\n",
       "      <td>0</td>\n",
       "      <td>13.0</td>\n",
       "      <td>1</td>\n",
       "      <td>1</td>\n",
       "    </tr>\n",
       "    <tr>\n",
       "      <th>6</th>\n",
       "      <td>897</td>\n",
       "      <td>79</td>\n",
       "      <td>12/5/2012</td>\n",
       "      <td>23864272</td>\n",
       "      <td>2013-08-13</td>\n",
       "      <td>9/12/2013</td>\n",
       "      <td>74.69</td>\n",
       "      <td>0</td>\n",
       "      <td>9/9/2013</td>\n",
       "      <td>1</td>\n",
       "      <td>27</td>\n",
       "      <td>0</td>\n",
       "      <td>0</td>\n",
       "      <td>0</td>\n",
       "      <td>26.0</td>\n",
       "      <td>3</td>\n",
       "      <td>1</td>\n",
       "    </tr>\n",
       "    <tr>\n",
       "      <th>7</th>\n",
       "      <td>770</td>\n",
       "      <td>33</td>\n",
       "      <td>6/27/2013</td>\n",
       "      <td>27545037</td>\n",
       "      <td>2012-12-16</td>\n",
       "      <td>1/15/2013</td>\n",
       "      <td>75.06</td>\n",
       "      <td>0</td>\n",
       "      <td>1/12/2013</td>\n",
       "      <td>0</td>\n",
       "      <td>27</td>\n",
       "      <td>0</td>\n",
       "      <td>0</td>\n",
       "      <td>0</td>\n",
       "      <td>25.0</td>\n",
       "      <td>4</td>\n",
       "      <td>1</td>\n",
       "    </tr>\n",
       "    <tr>\n",
       "      <th>8</th>\n",
       "      <td>770</td>\n",
       "      <td>30</td>\n",
       "      <td>3/8/2013</td>\n",
       "      <td>28049695</td>\n",
       "      <td>2012-05-14</td>\n",
       "      <td>6/13/2012</td>\n",
       "      <td>80.07</td>\n",
       "      <td>1</td>\n",
       "      <td>7/1/2012</td>\n",
       "      <td>0</td>\n",
       "      <td>48</td>\n",
       "      <td>18</td>\n",
       "      <td>1</td>\n",
       "      <td>0</td>\n",
       "      <td>19.0</td>\n",
       "      <td>2</td>\n",
       "      <td>1</td>\n",
       "    </tr>\n",
       "    <tr>\n",
       "      <th>9</th>\n",
       "      <td>897</td>\n",
       "      <td>68</td>\n",
       "      <td>4/4/2012</td>\n",
       "      <td>32277701</td>\n",
       "      <td>2013-07-01</td>\n",
       "      <td>7/31/2013</td>\n",
       "      <td>48.33</td>\n",
       "      <td>0</td>\n",
       "      <td>7/26/2013</td>\n",
       "      <td>1</td>\n",
       "      <td>25</td>\n",
       "      <td>0</td>\n",
       "      <td>0</td>\n",
       "      <td>0</td>\n",
       "      <td>5.0</td>\n",
       "      <td>3</td>\n",
       "      <td>0</td>\n",
       "    </tr>\n",
       "  </tbody>\n",
       "</table>\n",
       "</div>"
      ],
      "text/plain": [
       "   countryCode  customerID PaperlessDate  invoiceNumber InvoiceDate  \\\n",
       "0          391           2      4/6/2013         611365  2013-01-02   \n",
       "1          406          83      3/3/2012        7900770  2013-01-26   \n",
       "2          391          21     1/26/2012        9231909  2013-07-03   \n",
       "3          406          92      4/6/2012        9888306  2013-02-10   \n",
       "4          818          55    11/26/2012       15752855  2012-10-25   \n",
       "5          818          37     8/28/2013       18104516  2012-01-27   \n",
       "6          897          79     12/5/2012       23864272  2013-08-13   \n",
       "7          770          33     6/27/2013       27545037  2012-12-16   \n",
       "8          770          30      3/8/2013       28049695  2012-05-14   \n",
       "9          897          68      4/4/2012       32277701  2013-07-01   \n",
       "\n",
       "      DueDate  InvoiceAmount  Disputed SettledDate  PaperlessBill  \\\n",
       "0    2/1/2013          55.94         0   1/15/2013              0   \n",
       "1   2/25/2013          61.74         1    3/3/2013              1   \n",
       "2    8/2/2013          65.88         0    7/8/2013              1   \n",
       "3   3/12/2013         105.92         0   3/17/2013              1   \n",
       "4  11/24/2012          72.27         1  11/28/2012              0   \n",
       "5   2/26/2012          94.00         1   2/22/2012              0   \n",
       "6   9/12/2013          74.69         0    9/9/2013              1   \n",
       "7   1/15/2013          75.06         0   1/12/2013              0   \n",
       "8   6/13/2012          80.07         1    7/1/2012              0   \n",
       "9   7/31/2013          48.33         0   7/26/2013              1   \n",
       "\n",
       "   DaysToSettle  DaysLate  Late  countlate  repeatCust  InvoiceQuarter  \\\n",
       "0            13         0     0          0         1.0               1   \n",
       "1            36         6     0          0         5.0               1   \n",
       "2             5         0     0          0         0.0               3   \n",
       "3            35         5     0          0        17.0               1   \n",
       "4            34         4     0          0         9.0               4   \n",
       "5            26         0     0          0        13.0               1   \n",
       "6            27         0     0          0        26.0               3   \n",
       "7            27         0     0          0        25.0               4   \n",
       "8            48        18     1          0        19.0               2   \n",
       "9            25         0     0          0         5.0               3   \n",
       "\n",
       "   InvoiceAmount_bin_b. more than 60  \n",
       "0                                  0  \n",
       "1                                  1  \n",
       "2                                  1  \n",
       "3                                  1  \n",
       "4                                  1  \n",
       "5                                  1  \n",
       "6                                  1  \n",
       "7                                  1  \n",
       "8                                  1  \n",
       "9                                  0  "
      ]
     },
     "execution_count": 103,
     "metadata": {},
     "output_type": "execute_result"
    }
   ],
   "source": [
    "final_data.head(10)"
   ]
  },
  {
   "cell_type": "code",
   "execution_count": 104,
   "metadata": {},
   "outputs": [],
   "source": [
    "features=['countryCode', 'customerID', 'InvoiceAmount', 'Disputed', 'PaperlessBill','repeatCust','Late', 'DaysToSettle', 'countlate']"
   ]
  },
  {
   "cell_type": "code",
   "execution_count": 105,
   "metadata": {},
   "outputs": [
    {
     "data": {
      "text/plain": [
       "['countryCode',\n",
       " 'customerID',\n",
       " 'InvoiceAmount',\n",
       " 'Disputed',\n",
       " 'PaperlessBill',\n",
       " 'repeatCust',\n",
       " 'Late',\n",
       " 'DaysToSettle',\n",
       " 'countlate']"
      ]
     },
     "execution_count": 105,
     "metadata": {},
     "output_type": "execute_result"
    }
   ],
   "source": [
    "features"
   ]
  },
  {
   "cell_type": "code",
   "execution_count": 106,
   "metadata": {},
   "outputs": [],
   "source": [
    "X = final_data[features]\n",
    "y = final_data['DaysLate']"
   ]
  },
  {
   "cell_type": "code",
   "execution_count": 107,
   "metadata": {},
   "outputs": [
    {
     "data": {
      "text/plain": [
       "0    0\n",
       "1    6\n",
       "2    0\n",
       "3    5\n",
       "4    4\n",
       "Name: DaysLate, dtype: int64"
      ]
     },
     "execution_count": 107,
     "metadata": {},
     "output_type": "execute_result"
    }
   ],
   "source": [
    "y.head(5)"
   ]
  },
  {
   "cell_type": "code",
   "execution_count": 108,
   "metadata": {},
   "outputs": [],
   "source": [
    "X_train,X_test,y_train,y_test = train_test_split(X,y,random_state=8) # default test size = 0.25"
   ]
  },
  {
   "cell_type": "code",
   "execution_count": 109,
   "metadata": {},
   "outputs": [],
   "source": [
    "linear = LinearRegression()"
   ]
  },
  {
   "cell_type": "code",
   "execution_count": 110,
   "metadata": {},
   "outputs": [
    {
     "data": {
      "text/plain": [
       "LinearRegression(copy_X=True, fit_intercept=True, n_jobs=None, normalize=False)"
      ]
     },
     "execution_count": 110,
     "metadata": {},
     "output_type": "execute_result"
    }
   ],
   "source": [
    "linear.fit(X_train,y_train)"
   ]
  },
  {
   "cell_type": "code",
   "execution_count": 111,
   "metadata": {},
   "outputs": [],
   "source": [
    "# linear Regression\n",
    "\n",
    "y_pred1 = linear.predict(X_test)"
   ]
  },
  {
   "cell_type": "code",
   "execution_count": 112,
   "metadata": {},
   "outputs": [
    {
     "name": "stdout",
     "output_type": "stream",
     "text": [
      "84.01 %\n"
     ]
    }
   ],
   "source": [
    "#Checking the accuracy\n",
    "linear_accuracy = round(linear.score(X_train,y_train)*100,2)\n",
    "print(round(linear_accuracy,2),'%')"
   ]
  },
  {
   "cell_type": "code",
   "execution_count": 113,
   "metadata": {},
   "outputs": [
    {
     "data": {
      "text/plain": [
       "6.420639392096495"
      ]
     },
     "execution_count": 113,
     "metadata": {},
     "output_type": "execute_result"
    }
   ],
   "source": [
    "from sklearn.metrics import mean_squared_error\n",
    "\n",
    "mean_squared_error(y_test,y_pred1)"
   ]
  },
  {
   "cell_type": "code",
   "execution_count": 114,
   "metadata": {},
   "outputs": [],
   "source": [
    "GBR_model = GradientBoostingRegressor(n_estimators=100, max_depth=4)"
   ]
  },
  {
   "cell_type": "code",
   "execution_count": 115,
   "metadata": {},
   "outputs": [
    {
     "data": {
      "text/plain": [
       "GradientBoostingRegressor(alpha=0.9, ccp_alpha=0.0, criterion='friedman_mse',\n",
       "                          init=None, learning_rate=0.1, loss='ls', max_depth=4,\n",
       "                          max_features=None, max_leaf_nodes=None,\n",
       "                          min_impurity_decrease=0.0, min_impurity_split=None,\n",
       "                          min_samples_leaf=1, min_samples_split=2,\n",
       "                          min_weight_fraction_leaf=0.0, n_estimators=100,\n",
       "                          n_iter_no_change=None, presort='deprecated',\n",
       "                          random_state=None, subsample=1.0, tol=0.0001,\n",
       "                          validation_fraction=0.1, verbose=0, warm_start=False)"
      ]
     },
     "execution_count": 115,
     "metadata": {},
     "output_type": "execute_result"
    }
   ],
   "source": [
    "#Fit\n",
    "GBR_model.fit(X_train, y_train)"
   ]
  },
  {
   "cell_type": "code",
   "execution_count": 116,
   "metadata": {},
   "outputs": [],
   "source": [
    "y_pred2 = GBR_model.predict(X_test)"
   ]
  },
  {
   "cell_type": "code",
   "execution_count": 117,
   "metadata": {},
   "outputs": [
    {
     "name": "stdout",
     "output_type": "stream",
     "text": [
      "100.0 %\n"
     ]
    }
   ],
   "source": [
    "# Checking the accuracy\n",
    "GBR_model_accuracy = GBR_model.score(X_train,y_train)*100\n",
    "print(round(GBR_model_accuracy,2),'%')"
   ]
  },
  {
   "cell_type": "code",
   "execution_count": 118,
   "metadata": {},
   "outputs": [
    {
     "data": {
      "text/plain": [
       "0.018825867638085796"
      ]
     },
     "execution_count": 118,
     "metadata": {},
     "output_type": "execute_result"
    }
   ],
   "source": [
    "mean_squared_error(y_test,y_pred2)"
   ]
  },
  {
   "cell_type": "code",
   "execution_count": 119,
   "metadata": {},
   "outputs": [],
   "source": [
    "random_model = RandomForestRegressor(n_estimators=1000)"
   ]
  },
  {
   "cell_type": "code",
   "execution_count": 120,
   "metadata": {},
   "outputs": [
    {
     "data": {
      "text/plain": [
       "RandomForestRegressor(bootstrap=True, ccp_alpha=0.0, criterion='mse',\n",
       "                      max_depth=None, max_features='auto', max_leaf_nodes=None,\n",
       "                      max_samples=None, min_impurity_decrease=0.0,\n",
       "                      min_impurity_split=None, min_samples_leaf=1,\n",
       "                      min_samples_split=2, min_weight_fraction_leaf=0.0,\n",
       "                      n_estimators=1000, n_jobs=None, oob_score=False,\n",
       "                      random_state=None, verbose=0, warm_start=False)"
      ]
     },
     "execution_count": 120,
     "metadata": {},
     "output_type": "execute_result"
    }
   ],
   "source": [
    "# Fit\n",
    "random_model.fit(X_train, y_train)"
   ]
  },
  {
   "cell_type": "code",
   "execution_count": 121,
   "metadata": {},
   "outputs": [],
   "source": [
    "y_pred3 = random_model.predict(X_test)"
   ]
  },
  {
   "cell_type": "code",
   "execution_count": 122,
   "metadata": {},
   "outputs": [
    {
     "name": "stdout",
     "output_type": "stream",
     "text": [
      "99.97 %\n"
     ]
    }
   ],
   "source": [
    "# Checking the accuracy\n",
    "random_model_accuracy = round(random_model.score(X_train,y_train)*100,2)\n",
    "print(round(random_model_accuracy,2),'%')"
   ]
  },
  {
   "cell_type": "code",
   "execution_count": 123,
   "metadata": {},
   "outputs": [
    {
     "data": {
      "text/plain": [
       "0.005773849270664489"
      ]
     },
     "execution_count": 123,
     "metadata": {},
     "output_type": "execute_result"
    }
   ],
   "source": [
    "from sklearn.metrics import mean_squared_error\n",
    "\n",
    "mean_squared_error(y_test,y_pred3)"
   ]
  },
  {
   "cell_type": "markdown",
   "metadata": {},
   "source": [
    "The ideal value for MSE is zero. GBR model is has the highest accuracy."
   ]
  },
  {
   "cell_type": "code",
   "execution_count": 124,
   "metadata": {},
   "outputs": [
    {
     "name": "stderr",
     "output_type": "stream",
     "text": [
      "/Users/rgs/opt/anaconda3/lib/python3.7/site-packages/ipykernel_launcher.py:14: FutureWarning: Indexing with multiple keys (implicitly converted to a tuple of keys) will be deprecated, use a list instead.\n",
      "  \n"
     ]
    },
    {
     "data": {
      "text/plain": [
       "<matplotlib.axes._subplots.AxesSubplot at 0x1a213c5710>"
      ]
     },
     "execution_count": 124,
     "metadata": {},
     "output_type": "execute_result"
    },
    {
     "data": {
      "image/png": "[encoded data removed]",
      "text/plain": [
       "<Figure size 864x432 with 1 Axes>"
      ]
     },
     "metadata": {},
     "output_type": "display_data"
    }
   ],
   "source": [
    "y = pd.concat([y_test,pd.DataFrame(y_pred2)],axis=1) # Using GBR model\n",
    "y.columns = ('Actual','Prediction')\n",
    "\n",
    "def act_decile (x):\n",
    "    if x == 0: return \"a. 0\"\n",
    "    elif x <= 2: return \"b. (0-2] days\"\n",
    "    elif x <= 4: return \"b. (2-4] days\"\n",
    "    elif x <= 6: return \"c. (4-6] days\"\n",
    "    elif x <= 8: return \"c. (6-8] days\"\n",
    "    elif x <= 10: return \"c. (8-10] days\"\n",
    "    else: return \"d. more (>10) days\"\n",
    "y['act_bin'] = y['Actual'].apply(act_decile)\n",
    "\n",
    "temp = pd.DataFrame(y.groupby(['act_bin'], axis=0, as_index=False)['Actual','Prediction'].mean())\n",
    "temp.index = temp['act_bin']\n",
    "temp.plot(marker='o',figsize=(12,6))"
   ]
  }
 ],
 "metadata": {
  "kernelspec": {
   "display_name": "Python 3",
   "language": "python",
   "name": "python3"
  },
  "language_info": {
   "codemirror_mode": {
    "name": "ipython",
    "version": 3
   },
   "file_extension": ".py",
   "mimetype": "text/x-python",
   "name": "python",
   "nbconvert_exporter": "python",
   "pygments_lexer": "ipython3",
   "version": "3.7.6"
  }
 },
 "nbformat": 4,
 "nbformat_minor": 4
}
